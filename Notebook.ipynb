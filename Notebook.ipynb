{
  "nbformat": 4,
  "nbformat_minor": 0,
  "metadata": {
    "colab": {
      "name": "zahra2.ipynb",
      "provenance": [],
      "collapsed_sections": []
    },
    "kernelspec": {
      "name": "python3",
      "display_name": "Python 3"
    },
    "language_info": {
      "name": "python"
    },
    "accelerator": "GPU",
    "gpuClass": "standard"
  },
  "cells": [
    {
      "cell_type": "code",
      "execution_count": 30,
      "metadata": {
        "id": "M8ExZHVICk6-"
      },
      "outputs": [],
      "source": [
        "import os\n",
        "import gc\n",
        "import sys\n",
        "import pandas as pd\n",
        "from google.colab import drive\n",
        "import matplotlib.pyplot as plt\n",
        "import seaborn as sns\n",
        "from PIL import Image\n",
        "import random as rnd\n",
        "from sklearn.model_selection import train_test_split\n",
        "import numpy as np\n",
        "import tensorflow as tf\n",
        "import tensorflow_datasets as tfds\n",
        "from tensorflow.keras import layers\n",
        "from keras_preprocessing.image import ImageDataGenerator\n",
        "from keras.layers import Dense, Activation, Flatten, Dropout, BatchNormalization\n",
        "from keras.layers import Conv2D, MaxPooling2D, GlobalAveragePooling2D\n",
        "from keras.models import Sequential, Model\n",
        "from keras.applications.imagenet_utils import preprocess_input\n",
        "from keras.applications.vgg19 import VGG19\n",
        "from tensorflow.keras.applications import ResNet50\n",
        "from keras.applications.inception_v3 import InceptionV3\n",
        "from keras import regularizers, optimizers\n",
        "from sklearn.model_selection import train_test_split\n",
        "from keras.applications.vgg19 import preprocess_input\n",
        "from tensorflow.keras.optimizers import Adam, Adamax"
      ]
    },
    {
      "cell_type": "code",
      "source": [
        "folder_path = '/content/drive/MyDrive/dataSet/'\n",
        "path_Ak = folder_path + 'Ak'\n",
        "path_Ala_Idris = folder_path + 'Ala_Idris'\n",
        "path_Buzgulu = folder_path + 'Buzgulu'\n",
        "path_Dimnit = folder_path + 'Dimnit'\n",
        "path_Nazli = folder_path + 'Nazli'"
      ],
      "metadata": {
        "id": "CnUmKoo2CuIl"
      },
      "execution_count": 31,
      "outputs": []
    },
    {
      "cell_type": "code",
      "source": [
        "data_frame = pd.DataFrame()"
      ],
      "metadata": {
        "id": "_tpR5h3nDOfm"
      },
      "execution_count": 32,
      "outputs": []
    },
    {
      "cell_type": "code",
      "source": [
        "data_frame['images'] = os.listdir(path_Ak)+os.listdir(path_Ala_Idris)+os.listdir(path_Buzgulu)+os.listdir(path_Dimnit)+os.listdir(path_Nazli)"
      ],
      "metadata": {
        "id": "6JD275cTDQ07"
      },
      "execution_count": 33,
      "outputs": []
    },
    {
      "cell_type": "code",
      "source": [
        "data_frame"
      ],
      "metadata": {
        "colab": {
          "base_uri": "https://localhost:8080/",
          "height": 424
        },
        "id": "mAd6cSrjNbl-",
        "outputId": "5d4aad28-ff3b-4cdd-bf1b-8f8ac2691941"
      },
      "execution_count": 34,
      "outputs": [
        {
          "output_type": "execute_result",
          "data": {
            "text/plain": [
              "             images\n",
              "0        Ak (1).png\n",
              "1       Ak (10).png\n",
              "2        Ak (6).png\n",
              "3       Ak (12).png\n",
              "4        Ak (3).png\n",
              "..              ...\n",
              "495  Nazli (98).png\n",
              "496  Nazli (97).png\n",
              "497  Nazli (95).png\n",
              "498  Nazli (96).png\n",
              "499  Nazli (94).png\n",
              "\n",
              "[500 rows x 1 columns]"
            ],
            "text/html": [
              "\n",
              "  <div id=\"df-f9ae5a5e-8ce2-49bd-83e3-f2f43b144047\">\n",
              "    <div class=\"colab-df-container\">\n",
              "      <div>\n",
              "<style scoped>\n",
              "    .dataframe tbody tr th:only-of-type {\n",
              "        vertical-align: middle;\n",
              "    }\n",
              "\n",
              "    .dataframe tbody tr th {\n",
              "        vertical-align: top;\n",
              "    }\n",
              "\n",
              "    .dataframe thead th {\n",
              "        text-align: right;\n",
              "    }\n",
              "</style>\n",
              "<table border=\"1\" class=\"dataframe\">\n",
              "  <thead>\n",
              "    <tr style=\"text-align: right;\">\n",
              "      <th></th>\n",
              "      <th>images</th>\n",
              "    </tr>\n",
              "  </thead>\n",
              "  <tbody>\n",
              "    <tr>\n",
              "      <th>0</th>\n",
              "      <td>Ak (1).png</td>\n",
              "    </tr>\n",
              "    <tr>\n",
              "      <th>1</th>\n",
              "      <td>Ak (10).png</td>\n",
              "    </tr>\n",
              "    <tr>\n",
              "      <th>2</th>\n",
              "      <td>Ak (6).png</td>\n",
              "    </tr>\n",
              "    <tr>\n",
              "      <th>3</th>\n",
              "      <td>Ak (12).png</td>\n",
              "    </tr>\n",
              "    <tr>\n",
              "      <th>4</th>\n",
              "      <td>Ak (3).png</td>\n",
              "    </tr>\n",
              "    <tr>\n",
              "      <th>...</th>\n",
              "      <td>...</td>\n",
              "    </tr>\n",
              "    <tr>\n",
              "      <th>495</th>\n",
              "      <td>Nazli (98).png</td>\n",
              "    </tr>\n",
              "    <tr>\n",
              "      <th>496</th>\n",
              "      <td>Nazli (97).png</td>\n",
              "    </tr>\n",
              "    <tr>\n",
              "      <th>497</th>\n",
              "      <td>Nazli (95).png</td>\n",
              "    </tr>\n",
              "    <tr>\n",
              "      <th>498</th>\n",
              "      <td>Nazli (96).png</td>\n",
              "    </tr>\n",
              "    <tr>\n",
              "      <th>499</th>\n",
              "      <td>Nazli (94).png</td>\n",
              "    </tr>\n",
              "  </tbody>\n",
              "</table>\n",
              "<p>500 rows × 1 columns</p>\n",
              "</div>\n",
              "      <button class=\"colab-df-convert\" onclick=\"convertToInteractive('df-f9ae5a5e-8ce2-49bd-83e3-f2f43b144047')\"\n",
              "              title=\"Convert this dataframe to an interactive table.\"\n",
              "              style=\"display:none;\">\n",
              "        \n",
              "  <svg xmlns=\"http://www.w3.org/2000/svg\" height=\"24px\"viewBox=\"0 0 24 24\"\n",
              "       width=\"24px\">\n",
              "    <path d=\"M0 0h24v24H0V0z\" fill=\"none\"/>\n",
              "    <path d=\"M18.56 5.44l.94 2.06.94-2.06 2.06-.94-2.06-.94-.94-2.06-.94 2.06-2.06.94zm-11 1L8.5 8.5l.94-2.06 2.06-.94-2.06-.94L8.5 2.5l-.94 2.06-2.06.94zm10 10l.94 2.06.94-2.06 2.06-.94-2.06-.94-.94-2.06-.94 2.06-2.06.94z\"/><path d=\"M17.41 7.96l-1.37-1.37c-.4-.4-.92-.59-1.43-.59-.52 0-1.04.2-1.43.59L10.3 9.45l-7.72 7.72c-.78.78-.78 2.05 0 2.83L4 21.41c.39.39.9.59 1.41.59.51 0 1.02-.2 1.41-.59l7.78-7.78 2.81-2.81c.8-.78.8-2.07 0-2.86zM5.41 20L4 18.59l7.72-7.72 1.47 1.35L5.41 20z\"/>\n",
              "  </svg>\n",
              "      </button>\n",
              "      \n",
              "  <style>\n",
              "    .colab-df-container {\n",
              "      display:flex;\n",
              "      flex-wrap:wrap;\n",
              "      gap: 12px;\n",
              "    }\n",
              "\n",
              "    .colab-df-convert {\n",
              "      background-color: #E8F0FE;\n",
              "      border: none;\n",
              "      border-radius: 50%;\n",
              "      cursor: pointer;\n",
              "      display: none;\n",
              "      fill: #1967D2;\n",
              "      height: 32px;\n",
              "      padding: 0 0 0 0;\n",
              "      width: 32px;\n",
              "    }\n",
              "\n",
              "    .colab-df-convert:hover {\n",
              "      background-color: #E2EBFA;\n",
              "      box-shadow: 0px 1px 2px rgba(60, 64, 67, 0.3), 0px 1px 3px 1px rgba(60, 64, 67, 0.15);\n",
              "      fill: #174EA6;\n",
              "    }\n",
              "\n",
              "    [theme=dark] .colab-df-convert {\n",
              "      background-color: #3B4455;\n",
              "      fill: #D2E3FC;\n",
              "    }\n",
              "\n",
              "    [theme=dark] .colab-df-convert:hover {\n",
              "      background-color: #434B5C;\n",
              "      box-shadow: 0px 1px 3px 1px rgba(0, 0, 0, 0.15);\n",
              "      filter: drop-shadow(0px 1px 2px rgba(0, 0, 0, 0.3));\n",
              "      fill: #FFFFFF;\n",
              "    }\n",
              "  </style>\n",
              "\n",
              "      <script>\n",
              "        const buttonEl =\n",
              "          document.querySelector('#df-f9ae5a5e-8ce2-49bd-83e3-f2f43b144047 button.colab-df-convert');\n",
              "        buttonEl.style.display =\n",
              "          google.colab.kernel.accessAllowed ? 'block' : 'none';\n",
              "\n",
              "        async function convertToInteractive(key) {\n",
              "          const element = document.querySelector('#df-f9ae5a5e-8ce2-49bd-83e3-f2f43b144047');\n",
              "          const dataTable =\n",
              "            await google.colab.kernel.invokeFunction('convertToInteractive',\n",
              "                                                     [key], {});\n",
              "          if (!dataTable) return;\n",
              "\n",
              "          const docLinkHtml = 'Like what you see? Visit the ' +\n",
              "            '<a target=\"_blank\" href=https://colab.research.google.com/notebooks/data_table.ipynb>data table notebook</a>'\n",
              "            + ' to learn more about interactive tables.';\n",
              "          element.innerHTML = '';\n",
              "          dataTable['output_type'] = 'display_data';\n",
              "          await google.colab.output.renderOutput(dataTable, element);\n",
              "          const docLink = document.createElement('div');\n",
              "          docLink.innerHTML = docLinkHtml;\n",
              "          element.appendChild(docLink);\n",
              "        }\n",
              "      </script>\n",
              "    </div>\n",
              "  </div>\n",
              "  "
            ]
          },
          "metadata": {},
          "execution_count": 34
        }
      ]
    },
    {
      "cell_type": "code",
      "source": [
        "type_lable = []\n",
        "path = []\n",
        "for image in data_frame['images']:\n",
        "    classs = image.split(' (')[0]\n",
        "    type_lable.append(classs)\n",
        "    path.append(folder_path+classs+'/'+image)"
      ],
      "metadata": {
        "id": "SKFXBde3DUql"
      },
      "execution_count": 35,
      "outputs": []
    },
    {
      "cell_type": "code",
      "source": [
        "data_frame['type_lable'] = type_lable \n",
        "data_frame['path'] = path\n",
        "data_frame = data_frame[['type_lable','path']]"
      ],
      "metadata": {
        "id": "-73NRZz8Da4z"
      },
      "execution_count": 36,
      "outputs": []
    },
    {
      "cell_type": "code",
      "source": [
        "data_frame"
      ],
      "metadata": {
        "colab": {
          "base_uri": "https://localhost:8080/",
          "height": 424
        },
        "id": "tPi7ndhwDdJO",
        "outputId": "6cec4bda-375b-4d5c-b4bc-ef230741a53a"
      },
      "execution_count": 37,
      "outputs": [
        {
          "output_type": "execute_result",
          "data": {
            "text/plain": [
              "    type_lable                                               path\n",
              "0           Ak       /content/drive/MyDrive/dataSet/Ak/Ak (1).png\n",
              "1           Ak      /content/drive/MyDrive/dataSet/Ak/Ak (10).png\n",
              "2           Ak       /content/drive/MyDrive/dataSet/Ak/Ak (6).png\n",
              "3           Ak      /content/drive/MyDrive/dataSet/Ak/Ak (12).png\n",
              "4           Ak       /content/drive/MyDrive/dataSet/Ak/Ak (3).png\n",
              "..         ...                                                ...\n",
              "495      Nazli  /content/drive/MyDrive/dataSet/Nazli/Nazli (98...\n",
              "496      Nazli  /content/drive/MyDrive/dataSet/Nazli/Nazli (97...\n",
              "497      Nazli  /content/drive/MyDrive/dataSet/Nazli/Nazli (95...\n",
              "498      Nazli  /content/drive/MyDrive/dataSet/Nazli/Nazli (96...\n",
              "499      Nazli  /content/drive/MyDrive/dataSet/Nazli/Nazli (94...\n",
              "\n",
              "[500 rows x 2 columns]"
            ],
            "text/html": [
              "\n",
              "  <div id=\"df-d2735352-9388-4fe0-9d1a-79ba41f2fe96\">\n",
              "    <div class=\"colab-df-container\">\n",
              "      <div>\n",
              "<style scoped>\n",
              "    .dataframe tbody tr th:only-of-type {\n",
              "        vertical-align: middle;\n",
              "    }\n",
              "\n",
              "    .dataframe tbody tr th {\n",
              "        vertical-align: top;\n",
              "    }\n",
              "\n",
              "    .dataframe thead th {\n",
              "        text-align: right;\n",
              "    }\n",
              "</style>\n",
              "<table border=\"1\" class=\"dataframe\">\n",
              "  <thead>\n",
              "    <tr style=\"text-align: right;\">\n",
              "      <th></th>\n",
              "      <th>type_lable</th>\n",
              "      <th>path</th>\n",
              "    </tr>\n",
              "  </thead>\n",
              "  <tbody>\n",
              "    <tr>\n",
              "      <th>0</th>\n",
              "      <td>Ak</td>\n",
              "      <td>/content/drive/MyDrive/dataSet/Ak/Ak (1).png</td>\n",
              "    </tr>\n",
              "    <tr>\n",
              "      <th>1</th>\n",
              "      <td>Ak</td>\n",
              "      <td>/content/drive/MyDrive/dataSet/Ak/Ak (10).png</td>\n",
              "    </tr>\n",
              "    <tr>\n",
              "      <th>2</th>\n",
              "      <td>Ak</td>\n",
              "      <td>/content/drive/MyDrive/dataSet/Ak/Ak (6).png</td>\n",
              "    </tr>\n",
              "    <tr>\n",
              "      <th>3</th>\n",
              "      <td>Ak</td>\n",
              "      <td>/content/drive/MyDrive/dataSet/Ak/Ak (12).png</td>\n",
              "    </tr>\n",
              "    <tr>\n",
              "      <th>4</th>\n",
              "      <td>Ak</td>\n",
              "      <td>/content/drive/MyDrive/dataSet/Ak/Ak (3).png</td>\n",
              "    </tr>\n",
              "    <tr>\n",
              "      <th>...</th>\n",
              "      <td>...</td>\n",
              "      <td>...</td>\n",
              "    </tr>\n",
              "    <tr>\n",
              "      <th>495</th>\n",
              "      <td>Nazli</td>\n",
              "      <td>/content/drive/MyDrive/dataSet/Nazli/Nazli (98...</td>\n",
              "    </tr>\n",
              "    <tr>\n",
              "      <th>496</th>\n",
              "      <td>Nazli</td>\n",
              "      <td>/content/drive/MyDrive/dataSet/Nazli/Nazli (97...</td>\n",
              "    </tr>\n",
              "    <tr>\n",
              "      <th>497</th>\n",
              "      <td>Nazli</td>\n",
              "      <td>/content/drive/MyDrive/dataSet/Nazli/Nazli (95...</td>\n",
              "    </tr>\n",
              "    <tr>\n",
              "      <th>498</th>\n",
              "      <td>Nazli</td>\n",
              "      <td>/content/drive/MyDrive/dataSet/Nazli/Nazli (96...</td>\n",
              "    </tr>\n",
              "    <tr>\n",
              "      <th>499</th>\n",
              "      <td>Nazli</td>\n",
              "      <td>/content/drive/MyDrive/dataSet/Nazli/Nazli (94...</td>\n",
              "    </tr>\n",
              "  </tbody>\n",
              "</table>\n",
              "<p>500 rows × 2 columns</p>\n",
              "</div>\n",
              "      <button class=\"colab-df-convert\" onclick=\"convertToInteractive('df-d2735352-9388-4fe0-9d1a-79ba41f2fe96')\"\n",
              "              title=\"Convert this dataframe to an interactive table.\"\n",
              "              style=\"display:none;\">\n",
              "        \n",
              "  <svg xmlns=\"http://www.w3.org/2000/svg\" height=\"24px\"viewBox=\"0 0 24 24\"\n",
              "       width=\"24px\">\n",
              "    <path d=\"M0 0h24v24H0V0z\" fill=\"none\"/>\n",
              "    <path d=\"M18.56 5.44l.94 2.06.94-2.06 2.06-.94-2.06-.94-.94-2.06-.94 2.06-2.06.94zm-11 1L8.5 8.5l.94-2.06 2.06-.94-2.06-.94L8.5 2.5l-.94 2.06-2.06.94zm10 10l.94 2.06.94-2.06 2.06-.94-2.06-.94-.94-2.06-.94 2.06-2.06.94z\"/><path d=\"M17.41 7.96l-1.37-1.37c-.4-.4-.92-.59-1.43-.59-.52 0-1.04.2-1.43.59L10.3 9.45l-7.72 7.72c-.78.78-.78 2.05 0 2.83L4 21.41c.39.39.9.59 1.41.59.51 0 1.02-.2 1.41-.59l7.78-7.78 2.81-2.81c.8-.78.8-2.07 0-2.86zM5.41 20L4 18.59l7.72-7.72 1.47 1.35L5.41 20z\"/>\n",
              "  </svg>\n",
              "      </button>\n",
              "      \n",
              "  <style>\n",
              "    .colab-df-container {\n",
              "      display:flex;\n",
              "      flex-wrap:wrap;\n",
              "      gap: 12px;\n",
              "    }\n",
              "\n",
              "    .colab-df-convert {\n",
              "      background-color: #E8F0FE;\n",
              "      border: none;\n",
              "      border-radius: 50%;\n",
              "      cursor: pointer;\n",
              "      display: none;\n",
              "      fill: #1967D2;\n",
              "      height: 32px;\n",
              "      padding: 0 0 0 0;\n",
              "      width: 32px;\n",
              "    }\n",
              "\n",
              "    .colab-df-convert:hover {\n",
              "      background-color: #E2EBFA;\n",
              "      box-shadow: 0px 1px 2px rgba(60, 64, 67, 0.3), 0px 1px 3px 1px rgba(60, 64, 67, 0.15);\n",
              "      fill: #174EA6;\n",
              "    }\n",
              "\n",
              "    [theme=dark] .colab-df-convert {\n",
              "      background-color: #3B4455;\n",
              "      fill: #D2E3FC;\n",
              "    }\n",
              "\n",
              "    [theme=dark] .colab-df-convert:hover {\n",
              "      background-color: #434B5C;\n",
              "      box-shadow: 0px 1px 3px 1px rgba(0, 0, 0, 0.15);\n",
              "      filter: drop-shadow(0px 1px 2px rgba(0, 0, 0, 0.3));\n",
              "      fill: #FFFFFF;\n",
              "    }\n",
              "  </style>\n",
              "\n",
              "      <script>\n",
              "        const buttonEl =\n",
              "          document.querySelector('#df-d2735352-9388-4fe0-9d1a-79ba41f2fe96 button.colab-df-convert');\n",
              "        buttonEl.style.display =\n",
              "          google.colab.kernel.accessAllowed ? 'block' : 'none';\n",
              "\n",
              "        async function convertToInteractive(key) {\n",
              "          const element = document.querySelector('#df-d2735352-9388-4fe0-9d1a-79ba41f2fe96');\n",
              "          const dataTable =\n",
              "            await google.colab.kernel.invokeFunction('convertToInteractive',\n",
              "                                                     [key], {});\n",
              "          if (!dataTable) return;\n",
              "\n",
              "          const docLinkHtml = 'Like what you see? Visit the ' +\n",
              "            '<a target=\"_blank\" href=https://colab.research.google.com/notebooks/data_table.ipynb>data table notebook</a>'\n",
              "            + ' to learn more about interactive tables.';\n",
              "          element.innerHTML = '';\n",
              "          dataTable['output_type'] = 'display_data';\n",
              "          await google.colab.output.renderOutput(dataTable, element);\n",
              "          const docLink = document.createElement('div');\n",
              "          docLink.innerHTML = docLinkHtml;\n",
              "          element.appendChild(docLink);\n",
              "        }\n",
              "      </script>\n",
              "    </div>\n",
              "  </div>\n",
              "  "
            ]
          },
          "metadata": {},
          "execution_count": 37
        }
      ]
    },
    {
      "cell_type": "code",
      "source": [
        "plt.figure(figsize = (15,15))\n",
        "for idx,i in enumerate(data_frame.type_lable.unique()):\n",
        "    plt.subplot(4,7,idx+1)\n",
        "    df = data_frame[data_frame['type_lable'] ==i].reset_index(drop = True)\n",
        "    image_path = df.loc[rnd.randint(0, len(df))-1,'path']\n",
        "    img = Image.open(image_path)\n",
        "    img = img.resize((225,225))\n",
        "    plt.imshow(img)\n",
        "    plt.axis('off')\n",
        "    plt.title(i)\n",
        "plt.tight_layout()\n",
        "plt.show()"
      ],
      "metadata": {
        "colab": {
          "base_uri": "https://localhost:8080/",
          "height": 189
        },
        "id": "9bXrVyZuDfy-",
        "outputId": "fa3162d3-2815-414f-c234-b204f08c1b13"
      },
      "execution_count": 38,
      "outputs": [
        {
          "output_type": "display_data",
          "data": {
            "text/plain": [
              "<Figure size 1080x1080 with 5 Axes>"
            ],
            "image/png": "[encoded data removed]"
          },
          "metadata": {
            "needs_background": "light"
          }
        }
      ]
    },
    {
      "cell_type": "code",
      "source": [
        "data_frame.isna().sum()"
      ],
      "metadata": {
        "colab": {
          "base_uri": "https://localhost:8080/"
        },
        "id": "3JpYGxIEDiCX",
        "outputId": "3f763ebc-260c-4567-f728-18f482ba169c"
      },
      "execution_count": 39,
      "outputs": [
        {
          "output_type": "execute_result",
          "data": {
            "text/plain": [
              "type_lable    0\n",
              "path          0\n",
              "dtype: int64"
            ]
          },
          "metadata": {},
          "execution_count": 39
        }
      ]
    },
    {
      "cell_type": "code",
      "source": [
        "data_frame.describe()"
      ],
      "metadata": {
        "colab": {
          "base_uri": "https://localhost:8080/",
          "height": 175
        },
        "id": "G59kszJ4Dm08",
        "outputId": "a47d3928-4aba-4afc-fbd9-3912d3a2068b"
      },
      "execution_count": 40,
      "outputs": [
        {
          "output_type": "execute_result",
          "data": {
            "text/plain": [
              "       type_lable                                          path\n",
              "count         500                                           500\n",
              "unique          5                                           500\n",
              "top            Ak  /content/drive/MyDrive/dataSet/Ak/Ak (1).png\n",
              "freq          100                                             1"
            ],
            "text/html": [
              "\n",
              "  <div id=\"df-e39a059b-dfcc-4219-ab02-eaf79c92b8c4\">\n",
              "    <div class=\"colab-df-container\">\n",
              "      <div>\n",
              "<style scoped>\n",
              "    .dataframe tbody tr th:only-of-type {\n",
              "        vertical-align: middle;\n",
              "    }\n",
              "\n",
              "    .dataframe tbody tr th {\n",
              "        vertical-align: top;\n",
              "    }\n",
              "\n",
              "    .dataframe thead th {\n",
              "        text-align: right;\n",
              "    }\n",
              "</style>\n",
              "<table border=\"1\" class=\"dataframe\">\n",
              "  <thead>\n",
              "    <tr style=\"text-align: right;\">\n",
              "      <th></th>\n",
              "      <th>type_lable</th>\n",
              "      <th>path</th>\n",
              "    </tr>\n",
              "  </thead>\n",
              "  <tbody>\n",
              "    <tr>\n",
              "      <th>count</th>\n",
              "      <td>500</td>\n",
              "      <td>500</td>\n",
              "    </tr>\n",
              "    <tr>\n",
              "      <th>unique</th>\n",
              "      <td>5</td>\n",
              "      <td>500</td>\n",
              "    </tr>\n",
              "    <tr>\n",
              "      <th>top</th>\n",
              "      <td>Ak</td>\n",
              "      <td>/content/drive/MyDrive/dataSet/Ak/Ak (1).png</td>\n",
              "    </tr>\n",
              "    <tr>\n",
              "      <th>freq</th>\n",
              "      <td>100</td>\n",
              "      <td>1</td>\n",
              "    </tr>\n",
              "  </tbody>\n",
              "</table>\n",
              "</div>\n",
              "      <button class=\"colab-df-convert\" onclick=\"convertToInteractive('df-e39a059b-dfcc-4219-ab02-eaf79c92b8c4')\"\n",
              "              title=\"Convert this dataframe to an interactive table.\"\n",
              "              style=\"display:none;\">\n",
              "        \n",
              "  <svg xmlns=\"http://www.w3.org/2000/svg\" height=\"24px\"viewBox=\"0 0 24 24\"\n",
              "       width=\"24px\">\n",
              "    <path d=\"M0 0h24v24H0V0z\" fill=\"none\"/>\n",
              "    <path d=\"M18.56 5.44l.94 2.06.94-2.06 2.06-.94-2.06-.94-.94-2.06-.94 2.06-2.06.94zm-11 1L8.5 8.5l.94-2.06 2.06-.94-2.06-.94L8.5 2.5l-.94 2.06-2.06.94zm10 10l.94 2.06.94-2.06 2.06-.94-2.06-.94-.94-2.06-.94 2.06-2.06.94z\"/><path d=\"M17.41 7.96l-1.37-1.37c-.4-.4-.92-.59-1.43-.59-.52 0-1.04.2-1.43.59L10.3 9.45l-7.72 7.72c-.78.78-.78 2.05 0 2.83L4 21.41c.39.39.9.59 1.41.59.51 0 1.02-.2 1.41-.59l7.78-7.78 2.81-2.81c.8-.78.8-2.07 0-2.86zM5.41 20L4 18.59l7.72-7.72 1.47 1.35L5.41 20z\"/>\n",
              "  </svg>\n",
              "      </button>\n",
              "      \n",
              "  <style>\n",
              "    .colab-df-container {\n",
              "      display:flex;\n",
              "      flex-wrap:wrap;\n",
              "      gap: 12px;\n",
              "    }\n",
              "\n",
              "    .colab-df-convert {\n",
              "      background-color: #E8F0FE;\n",
              "      border: none;\n",
              "      border-radius: 50%;\n",
              "      cursor: pointer;\n",
              "      display: none;\n",
              "      fill: #1967D2;\n",
              "      height: 32px;\n",
              "      padding: 0 0 0 0;\n",
              "      width: 32px;\n",
              "    }\n",
              "\n",
              "    .colab-df-convert:hover {\n",
              "      background-color: #E2EBFA;\n",
              "      box-shadow: 0px 1px 2px rgba(60, 64, 67, 0.3), 0px 1px 3px 1px rgba(60, 64, 67, 0.15);\n",
              "      fill: #174EA6;\n",
              "    }\n",
              "\n",
              "    [theme=dark] .colab-df-convert {\n",
              "      background-color: #3B4455;\n",
              "      fill: #D2E3FC;\n",
              "    }\n",
              "\n",
              "    [theme=dark] .colab-df-convert:hover {\n",
              "      background-color: #434B5C;\n",
              "      box-shadow: 0px 1px 3px 1px rgba(0, 0, 0, 0.15);\n",
              "      filter: drop-shadow(0px 1px 2px rgba(0, 0, 0, 0.3));\n",
              "      fill: #FFFFFF;\n",
              "    }\n",
              "  </style>\n",
              "\n",
              "      <script>\n",
              "        const buttonEl =\n",
              "          document.querySelector('#df-e39a059b-dfcc-4219-ab02-eaf79c92b8c4 button.colab-df-convert');\n",
              "        buttonEl.style.display =\n",
              "          google.colab.kernel.accessAllowed ? 'block' : 'none';\n",
              "\n",
              "        async function convertToInteractive(key) {\n",
              "          const element = document.querySelector('#df-e39a059b-dfcc-4219-ab02-eaf79c92b8c4');\n",
              "          const dataTable =\n",
              "            await google.colab.kernel.invokeFunction('convertToInteractive',\n",
              "                                                     [key], {});\n",
              "          if (!dataTable) return;\n",
              "\n",
              "          const docLinkHtml = 'Like what you see? Visit the ' +\n",
              "            '<a target=\"_blank\" href=https://colab.research.google.com/notebooks/data_table.ipynb>data table notebook</a>'\n",
              "            + ' to learn more about interactive tables.';\n",
              "          element.innerHTML = '';\n",
              "          dataTable['output_type'] = 'display_data';\n",
              "          await google.colab.output.renderOutput(dataTable, element);\n",
              "          const docLink = document.createElement('div');\n",
              "          docLink.innerHTML = docLinkHtml;\n",
              "          element.appendChild(docLink);\n",
              "        }\n",
              "      </script>\n",
              "    </div>\n",
              "  </div>\n",
              "  "
            ]
          },
          "metadata": {},
          "execution_count": 40
        }
      ]
    },
    {
      "cell_type": "code",
      "source": [
        "left = [1, 2, 3, 4, 5]\n",
        "height = [sum(data_frame[\"type_lable\"]=='Ak'), sum(data_frame[\"type_lable\"]=='Ala_Idris'), sum(data_frame[\"type_lable\"]=='Buzgulu'), sum(data_frame[\"type_lable\"]=='Dimnit'), sum(data_frame[\"type_lable\"]=='Nazli')]\n",
        "tick_label = ['Ak', 'Ala_Idris', 'Buzgulu', 'Dimnit', 'Nazli']\n",
        "plt.bar(left, height, tick_label = tick_label,width = 0.8, color = ['green','yellow','blue','red','pink'])\n",
        "plt.title('count of each group')\n",
        "plt.show()\n"
      ],
      "metadata": {
        "colab": {
          "base_uri": "https://localhost:8080/",
          "height": 282
        },
        "id": "Un5lWNUdDo6r",
        "outputId": "882e051e-2e7a-4f05-a388-8254df6c16d4"
      },
      "execution_count": 41,
      "outputs": [
        {
          "output_type": "display_data",
          "data": {
            "text/plain": [
              "<Figure size 432x288 with 1 Axes>"
            ],
            "image/png": "[encoded data removed]"
          },
          "metadata": {
            "needs_background": "light"
          }
        }
      ]
    },
    {
      "cell_type": "code",
      "source": [
        "date_frame_copy =  data_frame[['path']].copy()"
      ],
      "metadata": {
        "id": "7iJ9lirgDs5h"
      },
      "execution_count": 42,
      "outputs": []
    },
    {
      "cell_type": "code",
      "source": [
        "x_train, x_test, y_train, y_test = train_test_split(date_frame_copy, data_frame['type_lable'] , test_size=0.2, random_state=42)"
      ],
      "metadata": {
        "id": "oDbCcZ2dDyAD"
      },
      "execution_count": 43,
      "outputs": []
    },
    {
      "cell_type": "code",
      "source": [
        "x_train, x_validation, y_train, y_validation = train_test_split(x_train, y_train, test_size=0.2, random_state=42)"
      ],
      "metadata": {
        "id": "4jtxPK_dD0Ek"
      },
      "execution_count": 44,
      "outputs": []
    },
    {
      "cell_type": "code",
      "source": [
        "print(\"x_train shape is: {}\".format(x_train.shape))\n",
        "print(\"y_train shape is: {}\".format(y_train.shape))\n",
        "print(\"x_test shape is: {}\".format(x_test.shape))\n",
        "print(\"y_test shape is: {}\".format(y_test.shape))\n",
        "print(\"x_validation shape is: {}\".format(x_validation.shape))\n",
        "print(\"y_validation shape is: {}\".format(y_validation.shape))"
      ],
      "metadata": {
        "colab": {
          "base_uri": "https://localhost:8080/"
        },
        "id": "dFD1hM5kD192",
        "outputId": "327b34a3-3d7a-4291-da32-2958d24175b9"
      },
      "execution_count": 45,
      "outputs": [
        {
          "output_type": "stream",
          "name": "stdout",
          "text": [
            "x_train shape is: (320, 1)\n",
            "y_train shape is: (320,)\n",
            "x_test shape is: (100, 1)\n",
            "y_test shape is: (100,)\n",
            "x_validation shape is: (80, 1)\n",
            "y_validation shape is: (80,)\n"
          ]
        }
      ]
    },
    {
      "cell_type": "code",
      "source": [
        "plt.pie([len(x_train),len(x_validation),len(x_test)], labels=['train','validation','test'],colors=['#47a0b3', '#a2d9a4', '#edf8a3'], autopct='%1.1f%%')\n",
        "plt.legend(loc='upper right')\n",
        "plt.show()"
      ],
      "metadata": {
        "colab": {
          "base_uri": "https://localhost:8080/",
          "height": 248
        },
        "id": "tyN-wbtwD5rz",
        "outputId": "7babcd7b-6dbf-4acc-bc21-a4b2217ebaef"
      },
      "execution_count": 46,
      "outputs": [
        {
          "output_type": "display_data",
          "data": {
            "text/plain": [
              "<Figure size 432x288 with 1 Axes>"
            ],
            "image/png": "[encoded data removed]"
          },
          "metadata": {}
        }
      ]
    },
    {
      "cell_type": "code",
      "source": [
        "train_data_set = pd.concat([x_train, y_train], axis=1)\n",
        "validation_data_set = pd.concat([x_validation, y_validation], axis=1)\n",
        "test_data_set = pd.concat([x_test, y_test], axis=1)"
      ],
      "metadata": {
        "id": "H4QW19Y4D-Fv"
      },
      "execution_count": 47,
      "outputs": []
    },
    {
      "cell_type": "code",
      "source": [
        "data_generator = ImageDataGenerator(rotation_range=90, brightness_range=[0.5,1.5], shear_range=0.45,\n",
        "                             horizontal_flip=True, fill_mode='nearest',preprocessing_function=preprocess_input) "
      ],
      "metadata": {
        "id": "yuEF6rVfE4g8"
      },
      "execution_count": 48,
      "outputs": []
    },
    {
      "cell_type": "code",
      "source": [
        "test_data_generation = ImageDataGenerator(preprocessing_function=preprocess_input) "
      ],
      "metadata": {
        "id": "gCx4-80UGj9g"
      },
      "execution_count": 49,
      "outputs": []
    },
    {
      "cell_type": "code",
      "source": [
        "train_generator= data_generator.flow_from_dataframe(train_data_set, x_col='path', y_col='type_lable',\n",
        "                                             target_size=(227, 227),  batch_size=32, class_mode=\"categorical\", shuffle=True)"
      ],
      "metadata": {
        "colab": {
          "base_uri": "https://localhost:8080/"
        },
        "id": "aRCa6qPtH2fA",
        "outputId": "b08bc577-3bfe-4840-bf15-d5d468f55ff8"
      },
      "execution_count": 50,
      "outputs": [
        {
          "output_type": "stream",
          "name": "stdout",
          "text": [
            "Found 320 validated image filenames belonging to 5 classes.\n"
          ]
        }
      ]
    },
    {
      "cell_type": "code",
      "source": [
        "validation_generator = data_generator.flow_from_dataframe(validation_data_set,  x_col='path', y_col='type_lable', target_size=(227, 227),\n",
        "                                                          batch_size=32, class_mode=\"categorical\", shuffle=True)\n"
      ],
      "metadata": {
        "colab": {
          "base_uri": "https://localhost:8080/"
        },
        "id": "02Dg_6BTH4X7",
        "outputId": "9198976a-d8c4-4d58-d59d-b21a2041acde"
      },
      "execution_count": 51,
      "outputs": [
        {
          "output_type": "stream",
          "name": "stdout",
          "text": [
            "Found 80 validated image filenames belonging to 5 classes.\n"
          ]
        }
      ]
    },
    {
      "cell_type": "code",
      "source": [
        "test_generator = test_data_generation.flow_from_dataframe(test_data_set, x_col='path', y_col='type_lable',\n",
        "                                                          target_size=(227, 227),  batch_size=32, class_mode=\"categorical\", shuffle=False )"
      ],
      "metadata": {
        "colab": {
          "base_uri": "https://localhost:8080/"
        },
        "id": "XevJULoPH6Lh",
        "outputId": "3dec8d47-f4f2-4bc2-b4fe-78e0ecfba335"
      },
      "execution_count": 52,
      "outputs": [
        {
          "output_type": "stream",
          "name": "stdout",
          "text": [
            "Found 100 validated image filenames belonging to 5 classes.\n"
          ]
        }
      ]
    },
    {
      "cell_type": "markdown",
      "source": [
        "#### auto encoder"
      ],
      "metadata": {
        "id": "uaiyvQoHzCgj"
      }
    },
    {
      "cell_type": "code",
      "source": [
        "col_count = 227*227\n",
        "input_dim = Input(shape = (col_count, ))\n",
        "\n",
        "# Encoder Layers\n",
        "encoded1 = Dense(3000, activation = 'relu')(input_dim)\n",
        "encoded2 = Dense(2750, activation = 'relu')(encoded1)\n",
        "encoded3 = Dense(2500, activation = 'relu')(encoded2)\n",
        "encoded4 = Dense(2250, activation = 'relu')(encoded3)\n",
        "encoded5 = Dense(2000, activation = 'relu')(encoded4)\n",
        "encoded6 = Dense(1750, activation = 'relu')(encoded5)\n",
        "encoded7 = Dense(1500, activation = 'relu')(encoded6)\n",
        "encoded8 = Dense(1250, activation = 'relu')(encoded7)\n",
        "encoded9 = Dense(1000, activation = 'relu')(encoded8)\n",
        "encoded10 = Dense(750, activation = 'relu')(encoded9)\n",
        "encoded11 = Dense(500, activation = 'relu')(encoded10)\n",
        "encoded12 = Dense(250, activation = 'relu')(encoded11)\n",
        "encoded13 = Dense(200, activation = 'relu')(encoded12)\n",
        "\n",
        "# Decoder Layers\n",
        "decoded1 = Dense(250, activation = 'relu')(encoded13)\n",
        "decoded2 = Dense(500, activation = 'relu')(decoded1)\n",
        "decoded3 = Dense(750, activation = 'relu')(decoded2)\n",
        "decoded4 = Dense(1000, activation = 'relu')(decoded3)\n",
        "decoded5 = Dense(1250, activation = 'relu')(decoded4)\n",
        "decoded6 = Dense(1500, activation = 'relu')(decoded5)\n",
        "decoded7 = Dense(1750, activation = 'relu')(decoded6)\n",
        "decoded8 = Dense(2000, activation = 'relu')(decoded7)\n",
        "decoded9 = Dense(2250, activation = 'relu')(decoded8)\n",
        "decoded10 = Dense(2500, activation = 'relu')(decoded9)\n",
        "decoded11 = Dense(2750, activation = 'relu')(decoded10)\n",
        "decoded12 = Dense(3000, activation = 'relu')(decoded11)\n",
        "decoded13 = Dense(col_count, activation = 'sigmoid')(decoded12)\n",
        "\n",
        "autoencoder = Model(inputs = input_dim, outputs = decoded13)\n",
        "autoencoder.compile(optimizer = 'adadelta', loss = 'binary_crossentropy')\n",
        "autoencoder.summary()"
      ],
      "metadata": {
        "id": "GMtS2Pqcy6g-"
      },
      "execution_count": null,
      "outputs": []
    },
    {
      "cell_type": "code",
      "source": [
        "autoencoder.fit(X_train, X_train, nb_epoch = 10, batch_size = 32, shuffle = False, validation_data = (X_test, X_test))\n",
        "encoder = Model(inputs = input_dim, outputs = encoded13)\n",
        "encoded_input = Input(shape = (encoding_dim, ))\n",
        "\n",
        "#encoded dimention reductioned data\n",
        "encoded_train = pd.DataFrame(encoder.predict(train))\n",
        "encoded_test = pd.DataFrame(encoder.predict(test))\n"
      ],
      "metadata": {
        "id": "mD0aD-9fzAHJ"
      },
      "execution_count": null,
      "outputs": []
    },
    {
      "cell_type": "markdown",
      "source": [
        "#### Data Training"
      ],
      "metadata": {
        "id": "QTFqWh9xzIzR"
      }
    },
    {
      "cell_type": "code",
      "source": [
        "callbacks = [tf.keras.callbacks.ModelCheckpoint(\"save_model_xception.h5\", save_best_only=True)]"
      ],
      "metadata": {
        "id": "YhJRIv9vJUDQ"
      },
      "execution_count": 53,
      "outputs": []
    },
    {
      "cell_type": "code",
      "source": [
        "DenseNet169 = tf.keras.applications.DenseNet169(include_top = False, input_shape = (227,227,3), weights = 'imagenet')\n",
        "x = GlobalAveragePooling2D()(DenseNet169.output)\n",
        "predictions = Dense(5, activation='softmax')(x)\n",
        "\n",
        "model_DenseNet169 = Model(inputs = DenseNet169.input, outputs = predictions)\n",
        "model_DenseNet169.compile(Adamax(learning_rate=0.001), loss='categorical_crossentropy', metrics=['accuracy'])\n",
        "history_DenseNet169 = model_DenseNet169.fit(\n",
        "      train_generator ,\n",
        "      validation_data = validation_generator,\n",
        "      epochs=50 ,\n",
        "      verbose=2 ,\n",
        "      callbacks = callbacks)"
      ],
      "metadata": {
        "id": "nBnU8X9bJfGp",
        "colab": {
          "base_uri": "https://localhost:8080/"
        },
        "outputId": "b8515e91-bb3c-4c0e-e7f9-6ed464dc4be5"
      },
      "execution_count": 27,
      "outputs": [
        {
          "output_type": "stream",
          "name": "stdout",
          "text": [
            "Epoch 1/50\n",
            "10/10 - 108s - loss: 1.1214 - accuracy: 0.5156 - val_loss: 1.7188 - val_accuracy: 0.2625 - 108s/epoch - 11s/step\n",
            "Epoch 2/50\n",
            "10/10 - 12s - loss: 0.5128 - accuracy: 0.8000 - val_loss: 2.1542 - val_accuracy: 0.3125 - 12s/epoch - 1s/step\n",
            "Epoch 3/50\n",
            "10/10 - 12s - loss: 0.3519 - accuracy: 0.8781 - val_loss: 1.9861 - val_accuracy: 0.3750 - 12s/epoch - 1s/step\n",
            "Epoch 4/50\n",
            "10/10 - 13s - loss: 0.2497 - accuracy: 0.9281 - val_loss: 1.6588 - val_accuracy: 0.4875 - 13s/epoch - 1s/step\n",
            "Epoch 5/50\n",
            "10/10 - 13s - loss: 0.2243 - accuracy: 0.9219 - val_loss: 1.3764 - val_accuracy: 0.5125 - 13s/epoch - 1s/step\n",
            "Epoch 6/50\n",
            "10/10 - 14s - loss: 0.1138 - accuracy: 0.9531 - val_loss: 1.3474 - val_accuracy: 0.6250 - 14s/epoch - 1s/step\n",
            "Epoch 7/50\n",
            "10/10 - 13s - loss: 0.1016 - accuracy: 0.9656 - val_loss: 1.1714 - val_accuracy: 0.7250 - 13s/epoch - 1s/step\n",
            "Epoch 8/50\n",
            "10/10 - 14s - loss: 0.1047 - accuracy: 0.9719 - val_loss: 0.7319 - val_accuracy: 0.7625 - 14s/epoch - 1s/step\n",
            "Epoch 9/50\n",
            "10/10 - 13s - loss: 0.0630 - accuracy: 0.9812 - val_loss: 0.3044 - val_accuracy: 0.8750 - 13s/epoch - 1s/step\n",
            "Epoch 10/50\n",
            "10/10 - 12s - loss: 0.0733 - accuracy: 0.9781 - val_loss: 0.3208 - val_accuracy: 0.8750 - 12s/epoch - 1s/step\n",
            "Epoch 11/50\n",
            "10/10 - 12s - loss: 0.0642 - accuracy: 0.9781 - val_loss: 0.6915 - val_accuracy: 0.8250 - 12s/epoch - 1s/step\n",
            "Epoch 12/50\n",
            "10/10 - 11s - loss: 0.0642 - accuracy: 0.9781 - val_loss: 0.4727 - val_accuracy: 0.8625 - 11s/epoch - 1s/step\n",
            "Epoch 13/50\n",
            "10/10 - 11s - loss: 0.0469 - accuracy: 0.9906 - val_loss: 0.6829 - val_accuracy: 0.8375 - 11s/epoch - 1s/step\n",
            "Epoch 14/50\n",
            "10/10 - 11s - loss: 0.0800 - accuracy: 0.9781 - val_loss: 0.3592 - val_accuracy: 0.9125 - 11s/epoch - 1s/step\n",
            "Epoch 15/50\n",
            "10/10 - 13s - loss: 0.0986 - accuracy: 0.9656 - val_loss: 0.2957 - val_accuracy: 0.9125 - 13s/epoch - 1s/step\n",
            "Epoch 16/50\n",
            "10/10 - 12s - loss: 0.0375 - accuracy: 0.9906 - val_loss: 0.4830 - val_accuracy: 0.8625 - 12s/epoch - 1s/step\n",
            "Epoch 17/50\n",
            "10/10 - 13s - loss: 0.0772 - accuracy: 0.9656 - val_loss: 0.1434 - val_accuracy: 0.9375 - 13s/epoch - 1s/step\n",
            "Epoch 18/50\n",
            "10/10 - 12s - loss: 0.0756 - accuracy: 0.9750 - val_loss: 0.2598 - val_accuracy: 0.8875 - 12s/epoch - 1s/step\n",
            "Epoch 19/50\n",
            "10/10 - 12s - loss: 0.0230 - accuracy: 0.9937 - val_loss: 0.1911 - val_accuracy: 0.9125 - 12s/epoch - 1s/step\n",
            "Epoch 20/50\n",
            "10/10 - 13s - loss: 0.0613 - accuracy: 0.9812 - val_loss: 0.1297 - val_accuracy: 0.9500 - 13s/epoch - 1s/step\n",
            "Epoch 21/50\n",
            "10/10 - 12s - loss: 0.0709 - accuracy: 0.9688 - val_loss: 0.2771 - val_accuracy: 0.9125 - 12s/epoch - 1s/step\n",
            "Epoch 22/50\n",
            "10/10 - 12s - loss: 0.0235 - accuracy: 0.9906 - val_loss: 0.2142 - val_accuracy: 0.9375 - 12s/epoch - 1s/step\n",
            "Epoch 23/50\n",
            "10/10 - 12s - loss: 0.0487 - accuracy: 0.9875 - val_loss: 0.1386 - val_accuracy: 0.9500 - 12s/epoch - 1s/step\n",
            "Epoch 24/50\n",
            "10/10 - 13s - loss: 0.0154 - accuracy: 0.9937 - val_loss: 0.1084 - val_accuracy: 0.9625 - 13s/epoch - 1s/step\n",
            "Epoch 25/50\n",
            "10/10 - 12s - loss: 0.0219 - accuracy: 0.9875 - val_loss: 0.1317 - val_accuracy: 0.9625 - 12s/epoch - 1s/step\n",
            "Epoch 26/50\n",
            "10/10 - 12s - loss: 0.0269 - accuracy: 0.9937 - val_loss: 0.3109 - val_accuracy: 0.9250 - 12s/epoch - 1s/step\n",
            "Epoch 27/50\n",
            "10/10 - 12s - loss: 0.0153 - accuracy: 0.9906 - val_loss: 0.2762 - val_accuracy: 0.9500 - 12s/epoch - 1s/step\n",
            "Epoch 28/50\n",
            "10/10 - 12s - loss: 0.0352 - accuracy: 0.9937 - val_loss: 0.1646 - val_accuracy: 0.9250 - 12s/epoch - 1s/step\n",
            "Epoch 29/50\n",
            "10/10 - 12s - loss: 0.0240 - accuracy: 0.9937 - val_loss: 0.1262 - val_accuracy: 0.9625 - 12s/epoch - 1s/step\n",
            "Epoch 30/50\n",
            "10/10 - 11s - loss: 0.0095 - accuracy: 0.9969 - val_loss: 0.1158 - val_accuracy: 0.9750 - 11s/epoch - 1s/step\n",
            "Epoch 31/50\n",
            "10/10 - 13s - loss: 0.0167 - accuracy: 0.9937 - val_loss: 0.0710 - val_accuracy: 0.9750 - 13s/epoch - 1s/step\n",
            "Epoch 32/50\n",
            "10/10 - 13s - loss: 0.0282 - accuracy: 0.9906 - val_loss: 0.1220 - val_accuracy: 0.9375 - 13s/epoch - 1s/step\n",
            "Epoch 33/50\n",
            "10/10 - 11s - loss: 0.0139 - accuracy: 0.9969 - val_loss: 0.0718 - val_accuracy: 0.9750 - 11s/epoch - 1s/step\n",
            "Epoch 34/50\n",
            "10/10 - 11s - loss: 0.0222 - accuracy: 0.9906 - val_loss: 0.0967 - val_accuracy: 0.9625 - 11s/epoch - 1s/step\n",
            "Epoch 35/50\n",
            "10/10 - 12s - loss: 0.0211 - accuracy: 0.9937 - val_loss: 0.0288 - val_accuracy: 0.9875 - 12s/epoch - 1s/step\n",
            "Epoch 36/50\n",
            "10/10 - 11s - loss: 0.0089 - accuracy: 1.0000 - val_loss: 0.0626 - val_accuracy: 0.9750 - 11s/epoch - 1s/step\n",
            "Epoch 37/50\n",
            "10/10 - 11s - loss: 0.0492 - accuracy: 0.9875 - val_loss: 0.0832 - val_accuracy: 0.9750 - 11s/epoch - 1s/step\n",
            "Epoch 38/50\n",
            "10/10 - 12s - loss: 0.0217 - accuracy: 0.9906 - val_loss: 0.2188 - val_accuracy: 0.9500 - 12s/epoch - 1s/step\n",
            "Epoch 39/50\n",
            "10/10 - 12s - loss: 0.0115 - accuracy: 1.0000 - val_loss: 0.3214 - val_accuracy: 0.9500 - 12s/epoch - 1s/step\n",
            "Epoch 40/50\n",
            "10/10 - 12s - loss: 0.0763 - accuracy: 0.9844 - val_loss: 0.0914 - val_accuracy: 0.9750 - 12s/epoch - 1s/step\n",
            "Epoch 41/50\n",
            "10/10 - 12s - loss: 0.0440 - accuracy: 0.9875 - val_loss: 0.1878 - val_accuracy: 0.9125 - 12s/epoch - 1s/step\n",
            "Epoch 42/50\n",
            "10/10 - 12s - loss: 0.0290 - accuracy: 0.9906 - val_loss: 0.1603 - val_accuracy: 0.9250 - 12s/epoch - 1s/step\n",
            "Epoch 43/50\n",
            "10/10 - 11s - loss: 0.0151 - accuracy: 0.9937 - val_loss: 0.1960 - val_accuracy: 0.9375 - 11s/epoch - 1s/step\n",
            "Epoch 44/50\n",
            "10/10 - 11s - loss: 0.0166 - accuracy: 0.9937 - val_loss: 0.1425 - val_accuracy: 0.9375 - 11s/epoch - 1s/step\n",
            "Epoch 45/50\n",
            "10/10 - 14s - loss: 0.0294 - accuracy: 0.9844 - val_loss: 0.0255 - val_accuracy: 0.9875 - 14s/epoch - 1s/step\n",
            "Epoch 46/50\n",
            "10/10 - 12s - loss: 0.0360 - accuracy: 0.9937 - val_loss: 0.1190 - val_accuracy: 0.9625 - 12s/epoch - 1s/step\n",
            "Epoch 47/50\n",
            "10/10 - 12s - loss: 0.0305 - accuracy: 0.9937 - val_loss: 0.1584 - val_accuracy: 0.9500 - 12s/epoch - 1s/step\n",
            "Epoch 48/50\n",
            "10/10 - 12s - loss: 0.0194 - accuracy: 0.9937 - val_loss: 0.1140 - val_accuracy: 0.9625 - 12s/epoch - 1s/step\n",
            "Epoch 49/50\n",
            "10/10 - 18s - loss: 0.0131 - accuracy: 0.9969 - val_loss: 0.1319 - val_accuracy: 0.9375 - 18s/epoch - 2s/step\n",
            "Epoch 50/50\n",
            "10/10 - 18s - loss: 0.0264 - accuracy: 0.9906 - val_loss: 0.0175 - val_accuracy: 1.0000 - 18s/epoch - 2s/step\n"
          ]
        }
      ]
    },
    {
      "cell_type": "code",
      "source": [
        "from sklearn.metrics import accuracy_score, confusion_matrix, classification_report\n",
        "def report_results(model, y_true, y_predicted):\n",
        "    y_predicted = np.argmax(y_predicted, axis=1)\n",
        "    labels = (train_generator.class_indices)\n",
        "    labels = dict((v,k) for k,v in labels.items())\n",
        "    y_predicted = np.array([labels[k] for k in y_predicted])\n",
        "    print(f\"Accuracy score: {accuracy_score(y_true, y_predicted)}\")\n",
        "    print(classification_report(y_true, y_predicted))\n",
        "    mat = confusion_matrix(y_true, y_predicted)\n",
        "    sns.heatmap(mat, annot=True, cmap='Spectral')\n",
        "\n",
        "    classes=labels.values()\n",
        "    length = len(classes)\n",
        "    plt.xticks(np.arange(length)+.5, classes, rotation= 90)\n",
        "    plt.yticks(np.arange(length)+.5, classes, rotation=0)\n",
        "    plt.xlabel(\"Predicted\")\n",
        "    plt.ylabel(\"Actual\")\n",
        "    plt.title(\"Confusion Matrix\")\n",
        "    plt.show()"
      ],
      "metadata": {
        "id": "rHJHZpCTKY60"
      },
      "execution_count": 28,
      "outputs": []
    },
    {
      "cell_type": "code",
      "source": [
        "report_results(model_DenseNet169, y_test, model_DenseNet169.predict(test_generator))"
      ],
      "metadata": {
        "id": "oOJdUDaZKChW",
        "colab": {
          "base_uri": "https://localhost:8080/",
          "height": 554
        },
        "outputId": "7f332d2b-e2f9-4dca-c5e5-bea672fc0afa"
      },
      "execution_count": 29,
      "outputs": [
        {
          "output_type": "stream",
          "name": "stdout",
          "text": [
            "Accuracy score: 0.92\n",
            "              precision    recall  f1-score   support\n",
            "\n",
            "          Ak       0.96      0.89      0.93        28\n",
            "   Ala_Idris       1.00      0.86      0.92        14\n",
            "     Buzgulu       0.71      1.00      0.83        10\n",
            "      Dimnit       0.88      0.92      0.90        24\n",
            "       Nazli       1.00      0.96      0.98        24\n",
            "\n",
            "    accuracy                           0.92       100\n",
            "   macro avg       0.91      0.93      0.91       100\n",
            "weighted avg       0.93      0.92      0.92       100\n",
            "\n"
          ]
        },
        {
          "output_type": "display_data",
          "data": {
            "text/plain": [
              "<Figure size 432x288 with 2 Axes>"
            ],
            "image/png": "[encoded data removed]"
          },
          "metadata": {
            "needs_background": "light"
          }
        }
      ]
    },
    {
      "cell_type": "code",
      "source": [
        "EfficientNetB3 = tf.keras.applications.EfficientNetB3(include_top = False, input_shape = (227,227,3), weights = 'imagenet')\n",
        "x = GlobalAveragePooling2D()(EfficientNetB3.output)\n",
        "predictions = Dense(5, activation='softmax')(x)\n",
        "\n",
        "model_EfficientNetB3 = Model(inputs = EfficientNetB3.input, outputs = predictions)\n",
        "model_EfficientNetB3.compile(Adamax(learning_rate=0.001), loss='categorical_crossentropy', metrics=['accuracy'])\n",
        "history_EfficientNetB3 = model_EfficientNetB3.fit(\n",
        "      train_generator ,\n",
        "      validation_data = validation_generator,\n",
        "      epochs=50 ,\n",
        "      verbose=2 ,\n",
        "      callbacks = callbacks)"
      ],
      "metadata": {
        "colab": {
          "base_uri": "https://localhost:8080/"
        },
        "id": "qDFB_X-uZRVc",
        "outputId": "b0410736-a258-49f1-96e0-0715d7e0beca"
      },
      "execution_count": 54,
      "outputs": [
        {
          "output_type": "stream",
          "name": "stdout",
          "text": [
            "Epoch 1/50\n",
            "10/10 - 40s - loss: 1.0422 - accuracy: 0.6125 - val_loss: 1.8172 - val_accuracy: 0.3125 - 40s/epoch - 4s/step\n",
            "Epoch 2/50\n",
            "10/10 - 13s - loss: 0.5622 - accuracy: 0.7875 - val_loss: 1.6201 - val_accuracy: 0.4375 - 13s/epoch - 1s/step\n",
            "Epoch 3/50\n",
            "10/10 - 13s - loss: 0.3343 - accuracy: 0.9156 - val_loss: 1.4448 - val_accuracy: 0.5375 - 13s/epoch - 1s/step\n",
            "Epoch 4/50\n",
            "10/10 - 13s - loss: 0.1770 - accuracy: 0.9375 - val_loss: 1.1110 - val_accuracy: 0.5625 - 13s/epoch - 1s/step\n",
            "Epoch 5/50\n",
            "10/10 - 13s - loss: 0.1731 - accuracy: 0.9469 - val_loss: 0.5185 - val_accuracy: 0.7750 - 13s/epoch - 1s/step\n",
            "Epoch 6/50\n",
            "10/10 - 13s - loss: 0.1133 - accuracy: 0.9594 - val_loss: 0.4502 - val_accuracy: 0.8875 - 13s/epoch - 1s/step\n",
            "Epoch 7/50\n",
            "10/10 - 12s - loss: 0.1260 - accuracy: 0.9563 - val_loss: 0.5555 - val_accuracy: 0.8250 - 12s/epoch - 1s/step\n",
            "Epoch 8/50\n",
            "10/10 - 13s - loss: 0.1878 - accuracy: 0.9344 - val_loss: 0.4031 - val_accuracy: 0.8750 - 13s/epoch - 1s/step\n",
            "Epoch 9/50\n",
            "10/10 - 12s - loss: 0.0792 - accuracy: 0.9719 - val_loss: 0.4932 - val_accuracy: 0.8500 - 12s/epoch - 1s/step\n",
            "Epoch 10/50\n",
            "10/10 - 13s - loss: 0.0599 - accuracy: 0.9844 - val_loss: 0.3432 - val_accuracy: 0.8875 - 13s/epoch - 1s/step\n",
            "Epoch 11/50\n",
            "10/10 - 12s - loss: 0.0746 - accuracy: 0.9750 - val_loss: 0.6494 - val_accuracy: 0.8125 - 12s/epoch - 1s/step\n",
            "Epoch 12/50\n",
            "10/10 - 12s - loss: 0.0600 - accuracy: 0.9844 - val_loss: 0.6021 - val_accuracy: 0.8500 - 12s/epoch - 1s/step\n",
            "Epoch 13/50\n",
            "10/10 - 12s - loss: 0.0793 - accuracy: 0.9781 - val_loss: 0.5939 - val_accuracy: 0.8750 - 12s/epoch - 1s/step\n",
            "Epoch 14/50\n",
            "10/10 - 11s - loss: 0.0625 - accuracy: 0.9812 - val_loss: 0.5207 - val_accuracy: 0.8625 - 11s/epoch - 1s/step\n",
            "Epoch 15/50\n",
            "10/10 - 11s - loss: 0.0538 - accuracy: 0.9750 - val_loss: 0.8740 - val_accuracy: 0.7750 - 11s/epoch - 1s/step\n",
            "Epoch 16/50\n",
            "10/10 - 12s - loss: 0.0344 - accuracy: 0.9906 - val_loss: 0.3791 - val_accuracy: 0.8500 - 12s/epoch - 1s/step\n",
            "Epoch 17/50\n",
            "10/10 - 13s - loss: 0.0194 - accuracy: 0.9969 - val_loss: 0.2808 - val_accuracy: 0.9250 - 13s/epoch - 1s/step\n",
            "Epoch 18/50\n",
            "10/10 - 13s - loss: 0.0454 - accuracy: 0.9844 - val_loss: 0.2128 - val_accuracy: 0.9375 - 13s/epoch - 1s/step\n",
            "Epoch 19/50\n",
            "10/10 - 12s - loss: 0.0219 - accuracy: 0.9875 - val_loss: 0.3021 - val_accuracy: 0.9250 - 12s/epoch - 1s/step\n",
            "Epoch 20/50\n",
            "10/10 - 13s - loss: 0.0214 - accuracy: 0.9937 - val_loss: 0.0722 - val_accuracy: 0.9750 - 13s/epoch - 1s/step\n",
            "Epoch 21/50\n",
            "10/10 - 12s - loss: 0.0378 - accuracy: 0.9906 - val_loss: 0.2664 - val_accuracy: 0.9000 - 12s/epoch - 1s/step\n",
            "Epoch 22/50\n",
            "10/10 - 12s - loss: 0.0169 - accuracy: 0.9937 - val_loss: 0.1362 - val_accuracy: 0.9375 - 12s/epoch - 1s/step\n",
            "Epoch 23/50\n",
            "10/10 - 12s - loss: 0.0890 - accuracy: 0.9688 - val_loss: 0.2747 - val_accuracy: 0.9250 - 12s/epoch - 1s/step\n",
            "Epoch 24/50\n",
            "10/10 - 12s - loss: 0.0549 - accuracy: 0.9844 - val_loss: 0.2659 - val_accuracy: 0.9000 - 12s/epoch - 1s/step\n",
            "Epoch 25/50\n",
            "10/10 - 12s - loss: 0.0381 - accuracy: 0.9875 - val_loss: 0.2049 - val_accuracy: 0.9250 - 12s/epoch - 1s/step\n",
            "Epoch 26/50\n",
            "10/10 - 12s - loss: 0.0163 - accuracy: 0.9906 - val_loss: 0.1818 - val_accuracy: 0.9375 - 12s/epoch - 1s/step\n",
            "Epoch 27/50\n",
            "10/10 - 12s - loss: 0.0286 - accuracy: 0.9875 - val_loss: 0.1115 - val_accuracy: 0.9625 - 12s/epoch - 1s/step\n",
            "Epoch 28/50\n",
            "10/10 - 12s - loss: 0.0108 - accuracy: 1.0000 - val_loss: 0.1038 - val_accuracy: 0.9500 - 12s/epoch - 1s/step\n",
            "Epoch 29/50\n",
            "10/10 - 12s - loss: 0.0101 - accuracy: 1.0000 - val_loss: 0.1282 - val_accuracy: 0.9625 - 12s/epoch - 1s/step\n",
            "Epoch 30/50\n",
            "10/10 - 12s - loss: 0.0621 - accuracy: 0.9719 - val_loss: 0.0802 - val_accuracy: 0.9750 - 12s/epoch - 1s/step\n",
            "Epoch 31/50\n",
            "10/10 - 12s - loss: 0.0165 - accuracy: 0.9969 - val_loss: 0.0913 - val_accuracy: 0.9625 - 12s/epoch - 1s/step\n",
            "Epoch 32/50\n",
            "10/10 - 12s - loss: 0.0297 - accuracy: 0.9875 - val_loss: 0.1755 - val_accuracy: 0.9000 - 12s/epoch - 1s/step\n",
            "Epoch 33/50\n",
            "10/10 - 13s - loss: 0.0418 - accuracy: 0.9906 - val_loss: 0.0625 - val_accuracy: 0.9750 - 13s/epoch - 1s/step\n",
            "Epoch 34/50\n",
            "10/10 - 12s - loss: 0.0384 - accuracy: 0.9906 - val_loss: 0.1728 - val_accuracy: 0.9375 - 12s/epoch - 1s/step\n",
            "Epoch 35/50\n",
            "10/10 - 12s - loss: 0.0233 - accuracy: 0.9937 - val_loss: 0.1994 - val_accuracy: 0.9250 - 12s/epoch - 1s/step\n",
            "Epoch 36/50\n",
            "10/10 - 12s - loss: 0.0189 - accuracy: 0.9937 - val_loss: 0.2660 - val_accuracy: 0.9250 - 12s/epoch - 1s/step\n",
            "Epoch 37/50\n",
            "10/10 - 12s - loss: 0.0168 - accuracy: 0.9937 - val_loss: 0.1958 - val_accuracy: 0.9500 - 12s/epoch - 1s/step\n",
            "Epoch 38/50\n",
            "10/10 - 13s - loss: 0.0212 - accuracy: 0.9906 - val_loss: 0.1241 - val_accuracy: 0.9625 - 13s/epoch - 1s/step\n",
            "Epoch 39/50\n",
            "10/10 - 12s - loss: 0.0155 - accuracy: 0.9969 - val_loss: 0.2961 - val_accuracy: 0.8875 - 12s/epoch - 1s/step\n",
            "Epoch 40/50\n",
            "10/10 - 11s - loss: 0.0196 - accuracy: 0.9937 - val_loss: 0.2657 - val_accuracy: 0.8750 - 11s/epoch - 1s/step\n",
            "Epoch 41/50\n",
            "10/10 - 13s - loss: 0.0160 - accuracy: 0.9969 - val_loss: 0.2326 - val_accuracy: 0.9250 - 13s/epoch - 1s/step\n",
            "Epoch 42/50\n",
            "10/10 - 11s - loss: 0.0146 - accuracy: 0.9969 - val_loss: 0.1503 - val_accuracy: 0.9375 - 11s/epoch - 1s/step\n",
            "Epoch 43/50\n",
            "10/10 - 13s - loss: 0.0132 - accuracy: 1.0000 - val_loss: 0.0734 - val_accuracy: 0.9625 - 13s/epoch - 1s/step\n",
            "Epoch 44/50\n",
            "10/10 - 13s - loss: 0.0127 - accuracy: 0.9969 - val_loss: 0.1852 - val_accuracy: 0.9375 - 13s/epoch - 1s/step\n",
            "Epoch 45/50\n",
            "10/10 - 12s - loss: 0.0152 - accuracy: 0.9937 - val_loss: 0.1668 - val_accuracy: 0.9375 - 12s/epoch - 1s/step\n",
            "Epoch 46/50\n",
            "10/10 - 13s - loss: 0.0083 - accuracy: 0.9969 - val_loss: 0.0829 - val_accuracy: 0.9875 - 13s/epoch - 1s/step\n",
            "Epoch 47/50\n",
            "10/10 - 12s - loss: 0.0238 - accuracy: 0.9937 - val_loss: 0.1140 - val_accuracy: 0.9625 - 12s/epoch - 1s/step\n",
            "Epoch 48/50\n",
            "10/10 - 12s - loss: 0.0319 - accuracy: 0.9937 - val_loss: 0.1401 - val_accuracy: 0.9625 - 12s/epoch - 1s/step\n",
            "Epoch 49/50\n",
            "10/10 - 12s - loss: 0.0114 - accuracy: 1.0000 - val_loss: 0.1026 - val_accuracy: 0.9625 - 12s/epoch - 1s/step\n",
            "Epoch 50/50\n",
            "10/10 - 12s - loss: 0.0035 - accuracy: 1.0000 - val_loss: 0.1001 - val_accuracy: 0.9625 - 12s/epoch - 1s/step\n"
          ]
        }
      ]
    },
    {
      "cell_type": "code",
      "source": [
        "report_results(model_EfficientNetB3, y_test, model_EfficientNetB3.predict(test_generator))"
      ],
      "metadata": {
        "colab": {
          "base_uri": "https://localhost:8080/",
          "height": 554
        },
        "id": "0-Mtp7gUaYiO",
        "outputId": "fef314af-1ee8-4e49-fc80-688b94fd650a"
      },
      "execution_count": 55,
      "outputs": [
        {
          "output_type": "stream",
          "name": "stdout",
          "text": [
            "Accuracy score: 0.97\n",
            "              precision    recall  f1-score   support\n",
            "\n",
            "          Ak       1.00      1.00      1.00        28\n",
            "   Ala_Idris       1.00      0.93      0.96        14\n",
            "     Buzgulu       0.90      0.90      0.90        10\n",
            "      Dimnit       0.92      1.00      0.96        24\n",
            "       Nazli       1.00      0.96      0.98        24\n",
            "\n",
            "    accuracy                           0.97       100\n",
            "   macro avg       0.96      0.96      0.96       100\n",
            "weighted avg       0.97      0.97      0.97       100\n",
            "\n"
          ]
        },
        {
          "output_type": "display_data",
          "data": {
            "text/plain": [
              "<Figure size 432x288 with 2 Axes>"
            ],
            "image/png": "[encoded data removed]"
          },
          "metadata": {
            "needs_background": "light"
          }
        }
      ]
    },
    {
      "cell_type": "code",
      "source": [
        "ResNet50 = tf.keras.applications.ResNet50(include_top = False, input_shape = (227,227,3), weights = 'imagenet')\n",
        "x = GlobalAveragePooling2D()(ResNet50.output)\n",
        "predictions = Dense(5, activation='softmax')(x)\n",
        "for layer in ResNet50.layers:\n",
        "    layer.trainable = False\n",
        "model_ResNet50 = Model(inputs = ResNet50.input, outputs = predictions)\n",
        "model_ResNet50.compile(Adamax(learning_rate=0.001), loss='categorical_crossentropy', metrics=['accuracy'])\n",
        "history_ResNet50 = model_ResNet50.fit(\n",
        "      train_generator ,\n",
        "      validation_data = validation_generator,\n",
        "      epochs=50 ,\n",
        "      verbose=2 ,\n",
        "      callbacks = callbacks)"
      ],
      "metadata": {
        "colab": {
          "base_uri": "https://localhost:8080/"
        },
        "id": "6JF49K4qdCPo",
        "outputId": "eeab8dba-7b6d-46b5-9293-55e2b0854309"
      },
      "execution_count": 57,
      "outputs": [
        {
          "output_type": "stream",
          "name": "stdout",
          "text": [
            "Epoch 1/50\n",
            "10/10 - 25s - loss: 1.8040 - accuracy: 0.2000 - val_loss: 1.6678 - val_accuracy: 0.2000 - 25s/epoch - 2s/step\n",
            "Epoch 2/50\n",
            "10/10 - 10s - loss: 1.5922 - accuracy: 0.2656 - val_loss: 1.4804 - val_accuracy: 0.3500 - 10s/epoch - 1s/step\n",
            "Epoch 3/50\n",
            "10/10 - 9s - loss: 1.4811 - accuracy: 0.3719 - val_loss: 1.3478 - val_accuracy: 0.5250 - 9s/epoch - 858ms/step\n",
            "Epoch 4/50\n",
            "10/10 - 13s - loss: 1.4315 - accuracy: 0.3562 - val_loss: 1.3485 - val_accuracy: 0.5000 - 13s/epoch - 1s/step\n",
            "Epoch 5/50\n",
            "10/10 - 17s - loss: 1.3608 - accuracy: 0.4437 - val_loss: 1.3230 - val_accuracy: 0.4625 - 17s/epoch - 2s/step\n",
            "Epoch 6/50\n",
            "10/10 - 11s - loss: 1.2925 - accuracy: 0.5469 - val_loss: 1.2307 - val_accuracy: 0.6000 - 11s/epoch - 1s/step\n",
            "Epoch 7/50\n",
            "10/10 - 9s - loss: 1.2529 - accuracy: 0.5312 - val_loss: 1.1901 - val_accuracy: 0.6125 - 9s/epoch - 942ms/step\n",
            "Epoch 8/50\n",
            "10/10 - 11s - loss: 1.2311 - accuracy: 0.5969 - val_loss: 1.2228 - val_accuracy: 0.5750 - 11s/epoch - 1s/step\n",
            "Epoch 9/50\n",
            "10/10 - 9s - loss: 1.1781 - accuracy: 0.6000 - val_loss: 1.1815 - val_accuracy: 0.5625 - 9s/epoch - 879ms/step\n",
            "Epoch 10/50\n",
            "10/10 - 9s - loss: 1.1223 - accuracy: 0.6281 - val_loss: 1.0957 - val_accuracy: 0.6250 - 9s/epoch - 869ms/step\n",
            "Epoch 11/50\n",
            "10/10 - 9s - loss: 1.1016 - accuracy: 0.6500 - val_loss: 1.1246 - val_accuracy: 0.6250 - 9s/epoch - 939ms/step\n",
            "Epoch 12/50\n",
            "10/10 - 9s - loss: 1.0689 - accuracy: 0.6938 - val_loss: 1.0139 - val_accuracy: 0.7500 - 9s/epoch - 946ms/step\n",
            "Epoch 13/50\n",
            "10/10 - 9s - loss: 1.0291 - accuracy: 0.7125 - val_loss: 1.0873 - val_accuracy: 0.7000 - 9s/epoch - 941ms/step\n",
            "Epoch 14/50\n",
            "10/10 - 10s - loss: 1.0178 - accuracy: 0.6812 - val_loss: 0.9758 - val_accuracy: 0.7500 - 10s/epoch - 984ms/step\n",
            "Epoch 15/50\n",
            "10/10 - 8s - loss: 0.9970 - accuracy: 0.7000 - val_loss: 0.9833 - val_accuracy: 0.7125 - 8s/epoch - 845ms/step\n",
            "Epoch 16/50\n",
            "10/10 - 9s - loss: 0.9715 - accuracy: 0.7250 - val_loss: 0.9170 - val_accuracy: 0.7250 - 9s/epoch - 909ms/step\n",
            "Epoch 17/50\n",
            "10/10 - 9s - loss: 0.9360 - accuracy: 0.7281 - val_loss: 0.9446 - val_accuracy: 0.7000 - 9s/epoch - 937ms/step\n",
            "Epoch 18/50\n",
            "10/10 - 9s - loss: 0.9453 - accuracy: 0.7281 - val_loss: 0.8922 - val_accuracy: 0.7250 - 9s/epoch - 947ms/step\n",
            "Epoch 19/50\n",
            "10/10 - 9s - loss: 0.9642 - accuracy: 0.6938 - val_loss: 0.9159 - val_accuracy: 0.7125 - 9s/epoch - 939ms/step\n",
            "Epoch 20/50\n",
            "10/10 - 8s - loss: 0.9182 - accuracy: 0.7500 - val_loss: 0.8777 - val_accuracy: 0.7625 - 8s/epoch - 842ms/step\n",
            "Epoch 21/50\n",
            "10/10 - 9s - loss: 0.8690 - accuracy: 0.7500 - val_loss: 0.8568 - val_accuracy: 0.7500 - 9s/epoch - 949ms/step\n",
            "Epoch 22/50\n",
            "10/10 - 9s - loss: 0.8652 - accuracy: 0.7437 - val_loss: 0.8737 - val_accuracy: 0.7750 - 9s/epoch - 944ms/step\n",
            "Epoch 23/50\n",
            "10/10 - 9s - loss: 0.8468 - accuracy: 0.7625 - val_loss: 0.8479 - val_accuracy: 0.7000 - 9s/epoch - 920ms/step\n",
            "Epoch 24/50\n",
            "10/10 - 9s - loss: 0.8261 - accuracy: 0.7656 - val_loss: 0.9178 - val_accuracy: 0.7250 - 9s/epoch - 870ms/step\n",
            "Epoch 25/50\n",
            "10/10 - 11s - loss: 0.7955 - accuracy: 0.8031 - val_loss: 0.8238 - val_accuracy: 0.7500 - 11s/epoch - 1s/step\n",
            "Epoch 26/50\n",
            "10/10 - 9s - loss: 0.7960 - accuracy: 0.7719 - val_loss: 0.7860 - val_accuracy: 0.8250 - 9s/epoch - 943ms/step\n",
            "Epoch 27/50\n",
            "10/10 - 10s - loss: 0.7992 - accuracy: 0.7563 - val_loss: 0.8386 - val_accuracy: 0.7625 - 10s/epoch - 1s/step\n",
            "Epoch 28/50\n",
            "10/10 - 21s - loss: 0.7708 - accuracy: 0.7969 - val_loss: 0.7812 - val_accuracy: 0.8250 - 21s/epoch - 2s/step\n",
            "Epoch 29/50\n",
            "10/10 - 14s - loss: 0.7731 - accuracy: 0.7750 - val_loss: 0.7870 - val_accuracy: 0.7875 - 14s/epoch - 1s/step\n",
            "Epoch 30/50\n",
            "10/10 - 15s - loss: 0.7697 - accuracy: 0.7969 - val_loss: 0.7809 - val_accuracy: 0.7375 - 15s/epoch - 2s/step\n",
            "Epoch 31/50\n",
            "10/10 - 15s - loss: 0.7478 - accuracy: 0.8062 - val_loss: 0.7348 - val_accuracy: 0.8125 - 15s/epoch - 1s/step\n",
            "Epoch 32/50\n",
            "10/10 - 16s - loss: 0.7184 - accuracy: 0.8094 - val_loss: 0.7684 - val_accuracy: 0.8125 - 16s/epoch - 2s/step\n",
            "Epoch 33/50\n",
            "10/10 - 13s - loss: 0.7491 - accuracy: 0.8062 - val_loss: 0.7372 - val_accuracy: 0.8375 - 13s/epoch - 1s/step\n",
            "Epoch 34/50\n",
            "10/10 - 10s - loss: 0.7299 - accuracy: 0.8188 - val_loss: 0.7813 - val_accuracy: 0.7625 - 10s/epoch - 962ms/step\n",
            "Epoch 35/50\n",
            "10/10 - 9s - loss: 0.6850 - accuracy: 0.8219 - val_loss: 0.7588 - val_accuracy: 0.7500 - 9s/epoch - 927ms/step\n",
            "Epoch 36/50\n",
            "10/10 - 9s - loss: 0.6995 - accuracy: 0.8156 - val_loss: 0.7723 - val_accuracy: 0.7750 - 9s/epoch - 909ms/step\n",
            "Epoch 37/50\n",
            "10/10 - 9s - loss: 0.6913 - accuracy: 0.8406 - val_loss: 0.7613 - val_accuracy: 0.6875 - 9s/epoch - 895ms/step\n",
            "Epoch 38/50\n",
            "10/10 - 9s - loss: 0.6909 - accuracy: 0.8094 - val_loss: 0.6946 - val_accuracy: 0.8375 - 9s/epoch - 898ms/step\n",
            "Epoch 39/50\n",
            "10/10 - 9s - loss: 0.7001 - accuracy: 0.8094 - val_loss: 0.6830 - val_accuracy: 0.8000 - 9s/epoch - 868ms/step\n",
            "Epoch 40/50\n",
            "10/10 - 9s - loss: 0.6680 - accuracy: 0.7969 - val_loss: 0.6882 - val_accuracy: 0.8125 - 9s/epoch - 858ms/step\n",
            "Epoch 41/50\n",
            "10/10 - 10s - loss: 0.6678 - accuracy: 0.8344 - val_loss: 0.6680 - val_accuracy: 0.8125 - 10s/epoch - 957ms/step\n",
            "Epoch 42/50\n",
            "10/10 - 9s - loss: 0.6462 - accuracy: 0.8344 - val_loss: 0.7054 - val_accuracy: 0.8125 - 9s/epoch - 943ms/step\n",
            "Epoch 43/50\n",
            "10/10 - 10s - loss: 0.6935 - accuracy: 0.8000 - val_loss: 0.6293 - val_accuracy: 0.9000 - 10s/epoch - 1s/step\n",
            "Epoch 44/50\n",
            "10/10 - 9s - loss: 0.6700 - accuracy: 0.8094 - val_loss: 0.6546 - val_accuracy: 0.7875 - 9s/epoch - 943ms/step\n",
            "Epoch 45/50\n",
            "10/10 - 9s - loss: 0.6665 - accuracy: 0.8156 - val_loss: 0.6730 - val_accuracy: 0.8000 - 9s/epoch - 948ms/step\n",
            "Epoch 46/50\n",
            "10/10 - 9s - loss: 0.6425 - accuracy: 0.8313 - val_loss: 0.7012 - val_accuracy: 0.7500 - 9s/epoch - 889ms/step\n",
            "Epoch 47/50\n",
            "10/10 - 9s - loss: 0.6204 - accuracy: 0.8438 - val_loss: 0.6707 - val_accuracy: 0.7750 - 9s/epoch - 865ms/step\n",
            "Epoch 48/50\n",
            "10/10 - 9s - loss: 0.6010 - accuracy: 0.8313 - val_loss: 0.6589 - val_accuracy: 0.7625 - 9s/epoch - 937ms/step\n",
            "Epoch 49/50\n",
            "10/10 - 9s - loss: 0.6471 - accuracy: 0.8156 - val_loss: 0.7123 - val_accuracy: 0.7750 - 9s/epoch - 948ms/step\n",
            "Epoch 50/50\n",
            "10/10 - 9s - loss: 0.6139 - accuracy: 0.8281 - val_loss: 0.7073 - val_accuracy: 0.7750 - 9s/epoch - 946ms/step\n"
          ]
        }
      ]
    },
    {
      "cell_type": "code",
      "source": [
        "report_results(model_ResNet50, y_test, model_ResNet50.predict(test_generator))"
      ],
      "metadata": {
        "colab": {
          "base_uri": "https://localhost:8080/",
          "height": 554
        },
        "id": "Gpyo4e0bezsO",
        "outputId": "070870ae-9157-49f0-eb5d-8fb7f14ed400"
      },
      "execution_count": 58,
      "outputs": [
        {
          "output_type": "stream",
          "name": "stdout",
          "text": [
            "Accuracy score: 0.82\n",
            "              precision    recall  f1-score   support\n",
            "\n",
            "          Ak       0.91      0.71      0.80        28\n",
            "   Ala_Idris       0.71      0.86      0.77        14\n",
            "     Buzgulu       0.59      1.00      0.74        10\n",
            "      Dimnit       0.87      0.83      0.85        24\n",
            "       Nazli       0.95      0.83      0.89        24\n",
            "\n",
            "    accuracy                           0.82       100\n",
            "   macro avg       0.81      0.85      0.81       100\n",
            "weighted avg       0.85      0.82      0.82       100\n",
            "\n"
          ]
        },
        {
          "output_type": "display_data",
          "data": {
            "text/plain": [
              "<Figure size 432x288 with 2 Axes>"
            ],
            "image/png": "[encoded data removed]"
          },
          "metadata": {
            "needs_background": "light"
          }
        }
      ]
    },
    {
      "cell_type": "code",
      "source": [
        "EfficientNetB5 = tf.keras.applications.EfficientNetB5(include_top = False, input_shape = (227,227,3), weights = 'imagenet')\n",
        "x = GlobalAveragePooling2D()(EfficientNetB5.output)\n",
        "predictions = Dense(5, activation='softmax')(x)\n",
        "for layer in EfficientNetB5.layers:\n",
        "    layer.trainable = False\n",
        "model_EfficientNetB5 = Model(inputs = EfficientNetB5.input, outputs = predictions)\n",
        "model_EfficientNetB5.compile(Adamax(learning_rate=0.001), loss='categorical_crossentropy', metrics=['accuracy'])\n",
        "history_EfficientNetB5 = model_EfficientNetB5.fit(\n",
        "      train_generator ,\n",
        "      validation_data = validation_generator,\n",
        "      epochs=50 ,\n",
        "      verbose=2 ,\n",
        "      callbacks = callbacks)"
      ],
      "metadata": {
        "colab": {
          "base_uri": "https://localhost:8080/"
        },
        "id": "mXkJZe9KfAvJ",
        "outputId": "2b078b93-bde4-419b-a958-f95fa6b4e792"
      },
      "execution_count": 59,
      "outputs": [
        {
          "output_type": "stream",
          "name": "stdout",
          "text": [
            "Downloading data from https://storage.googleapis.com/keras-applications/efficientnetb5_notop.h5\n",
            "115269632/115263384 [==============================] - 4s 0us/step\n",
            "115277824/115263384 [==============================] - 4s 0us/step\n",
            "Epoch 1/50\n",
            "10/10 - 31s - loss: 1.6483 - accuracy: 0.2125 - val_loss: 1.5190 - val_accuracy: 0.3750 - 31s/epoch - 3s/step\n",
            "Epoch 2/50\n",
            "10/10 - 10s - loss: 1.4794 - accuracy: 0.3719 - val_loss: 1.4110 - val_accuracy: 0.4875 - 10s/epoch - 990ms/step\n",
            "Epoch 3/50\n",
            "10/10 - 10s - loss: 1.3913 - accuracy: 0.5000 - val_loss: 1.3206 - val_accuracy: 0.5500 - 10s/epoch - 1s/step\n",
            "Epoch 4/50\n",
            "10/10 - 10s - loss: 1.3143 - accuracy: 0.5188 - val_loss: 1.2992 - val_accuracy: 0.5500 - 10s/epoch - 999ms/step\n",
            "Epoch 5/50\n",
            "10/10 - 10s - loss: 1.2823 - accuracy: 0.5250 - val_loss: 1.2500 - val_accuracy: 0.5375 - 10s/epoch - 1s/step\n",
            "Epoch 6/50\n",
            "10/10 - 10s - loss: 1.2270 - accuracy: 0.6156 - val_loss: 1.1937 - val_accuracy: 0.6500 - 10s/epoch - 1s/step\n",
            "Epoch 7/50\n",
            "10/10 - 10s - loss: 1.1935 - accuracy: 0.6062 - val_loss: 1.1425 - val_accuracy: 0.6750 - 10s/epoch - 1s/step\n",
            "Epoch 8/50\n",
            "10/10 - 10s - loss: 1.1687 - accuracy: 0.5781 - val_loss: 1.1520 - val_accuracy: 0.6500 - 10s/epoch - 994ms/step\n",
            "Epoch 9/50\n",
            "10/10 - 10s - loss: 1.1254 - accuracy: 0.6219 - val_loss: 1.1152 - val_accuracy: 0.6750 - 10s/epoch - 994ms/step\n",
            "Epoch 10/50\n",
            "10/10 - 10s - loss: 1.1196 - accuracy: 0.5969 - val_loss: 1.0576 - val_accuracy: 0.6875 - 10s/epoch - 990ms/step\n",
            "Epoch 11/50\n",
            "10/10 - 10s - loss: 1.0892 - accuracy: 0.6375 - val_loss: 1.0790 - val_accuracy: 0.7000 - 10s/epoch - 977ms/step\n",
            "Epoch 12/50\n",
            "10/10 - 10s - loss: 1.0506 - accuracy: 0.6625 - val_loss: 1.0409 - val_accuracy: 0.7125 - 10s/epoch - 991ms/step\n",
            "Epoch 13/50\n",
            "10/10 - 10s - loss: 1.0173 - accuracy: 0.6594 - val_loss: 1.0436 - val_accuracy: 0.6500 - 10s/epoch - 973ms/step\n",
            "Epoch 14/50\n",
            "10/10 - 10s - loss: 1.0282 - accuracy: 0.6438 - val_loss: 1.0268 - val_accuracy: 0.6375 - 10s/epoch - 958ms/step\n",
            "Epoch 15/50\n",
            "10/10 - 10s - loss: 1.0048 - accuracy: 0.6844 - val_loss: 0.9596 - val_accuracy: 0.7250 - 10s/epoch - 982ms/step\n",
            "Epoch 16/50\n",
            "10/10 - 10s - loss: 0.9754 - accuracy: 0.7156 - val_loss: 0.9492 - val_accuracy: 0.6875 - 10s/epoch - 1s/step\n",
            "Epoch 17/50\n",
            "10/10 - 10s - loss: 1.0062 - accuracy: 0.6375 - val_loss: 0.9888 - val_accuracy: 0.6875 - 10s/epoch - 1000ms/step\n",
            "Epoch 18/50\n",
            "10/10 - 10s - loss: 0.9563 - accuracy: 0.6812 - val_loss: 0.9254 - val_accuracy: 0.7375 - 10s/epoch - 995ms/step\n",
            "Epoch 19/50\n",
            "10/10 - 10s - loss: 0.9339 - accuracy: 0.7031 - val_loss: 0.9138 - val_accuracy: 0.7250 - 10s/epoch - 1000ms/step\n",
            "Epoch 20/50\n",
            "10/10 - 10s - loss: 0.9744 - accuracy: 0.7188 - val_loss: 0.9295 - val_accuracy: 0.6875 - 10s/epoch - 1s/step\n",
            "Epoch 21/50\n",
            "10/10 - 10s - loss: 0.8982 - accuracy: 0.7437 - val_loss: 0.9203 - val_accuracy: 0.7125 - 10s/epoch - 1s/step\n",
            "Epoch 22/50\n",
            "10/10 - 10s - loss: 0.9131 - accuracy: 0.7031 - val_loss: 0.8416 - val_accuracy: 0.7625 - 10s/epoch - 996ms/step\n",
            "Epoch 23/50\n",
            "10/10 - 10s - loss: 0.9145 - accuracy: 0.6719 - val_loss: 0.8611 - val_accuracy: 0.7500 - 10s/epoch - 1000ms/step\n",
            "Epoch 24/50\n",
            "10/10 - 10s - loss: 0.8752 - accuracy: 0.7125 - val_loss: 0.9002 - val_accuracy: 0.6625 - 10s/epoch - 999ms/step\n",
            "Epoch 25/50\n",
            "10/10 - 10s - loss: 0.8822 - accuracy: 0.7156 - val_loss: 0.8375 - val_accuracy: 0.7500 - 10s/epoch - 991ms/step\n",
            "Epoch 26/50\n",
            "10/10 - 10s - loss: 0.8861 - accuracy: 0.6938 - val_loss: 0.9002 - val_accuracy: 0.7250 - 10s/epoch - 993ms/step\n",
            "Epoch 27/50\n",
            "10/10 - 10s - loss: 0.8528 - accuracy: 0.7312 - val_loss: 0.8255 - val_accuracy: 0.7250 - 10s/epoch - 967ms/step\n",
            "Epoch 28/50\n",
            "10/10 - 9s - loss: 0.8401 - accuracy: 0.7531 - val_loss: 0.7837 - val_accuracy: 0.7625 - 9s/epoch - 940ms/step\n",
            "Epoch 29/50\n",
            "10/10 - 9s - loss: 0.8308 - accuracy: 0.7437 - val_loss: 0.8055 - val_accuracy: 0.7500 - 9s/epoch - 926ms/step\n",
            "Epoch 30/50\n",
            "10/10 - 10s - loss: 0.8216 - accuracy: 0.7375 - val_loss: 0.7793 - val_accuracy: 0.7875 - 10s/epoch - 986ms/step\n",
            "Epoch 31/50\n",
            "10/10 - 9s - loss: 0.7836 - accuracy: 0.7750 - val_loss: 0.7861 - val_accuracy: 0.7625 - 9s/epoch - 939ms/step\n",
            "Epoch 32/50\n",
            "10/10 - 10s - loss: 0.7923 - accuracy: 0.7719 - val_loss: 0.7766 - val_accuracy: 0.7750 - 10s/epoch - 955ms/step\n",
            "Epoch 33/50\n",
            "10/10 - 10s - loss: 0.8018 - accuracy: 0.7594 - val_loss: 0.8295 - val_accuracy: 0.7125 - 10s/epoch - 969ms/step\n",
            "Epoch 34/50\n",
            "10/10 - 10s - loss: 0.7899 - accuracy: 0.7500 - val_loss: 0.7353 - val_accuracy: 0.7625 - 10s/epoch - 981ms/step\n",
            "Epoch 35/50\n",
            "10/10 - 10s - loss: 0.7756 - accuracy: 0.7500 - val_loss: 0.7530 - val_accuracy: 0.7875 - 10s/epoch - 976ms/step\n",
            "Epoch 36/50\n",
            "10/10 - 10s - loss: 0.7511 - accuracy: 0.7437 - val_loss: 0.7368 - val_accuracy: 0.7750 - 10s/epoch - 977ms/step\n",
            "Epoch 37/50\n",
            "10/10 - 10s - loss: 0.7830 - accuracy: 0.7781 - val_loss: 0.7377 - val_accuracy: 0.7750 - 10s/epoch - 957ms/step\n",
            "Epoch 38/50\n",
            "10/10 - 10s - loss: 0.7695 - accuracy: 0.7688 - val_loss: 0.7885 - val_accuracy: 0.7250 - 10s/epoch - 961ms/step\n",
            "Epoch 39/50\n",
            "10/10 - 10s - loss: 0.7691 - accuracy: 0.7688 - val_loss: 0.7272 - val_accuracy: 0.7875 - 10s/epoch - 971ms/step\n",
            "Epoch 40/50\n",
            "10/10 - 9s - loss: 0.7510 - accuracy: 0.7531 - val_loss: 0.7520 - val_accuracy: 0.7625 - 9s/epoch - 939ms/step\n",
            "Epoch 41/50\n",
            "10/10 - 10s - loss: 0.7539 - accuracy: 0.7281 - val_loss: 0.7367 - val_accuracy: 0.7625 - 10s/epoch - 962ms/step\n",
            "Epoch 42/50\n",
            "10/10 - 10s - loss: 0.7675 - accuracy: 0.7656 - val_loss: 0.7690 - val_accuracy: 0.7375 - 10s/epoch - 980ms/step\n",
            "Epoch 43/50\n",
            "10/10 - 10s - loss: 0.7122 - accuracy: 0.8000 - val_loss: 0.7270 - val_accuracy: 0.7500 - 10s/epoch - 972ms/step\n",
            "Epoch 44/50\n",
            "10/10 - 10s - loss: 0.7153 - accuracy: 0.8031 - val_loss: 0.7570 - val_accuracy: 0.7125 - 10s/epoch - 971ms/step\n",
            "Epoch 45/50\n",
            "10/10 - 10s - loss: 0.6960 - accuracy: 0.7906 - val_loss: 0.6812 - val_accuracy: 0.7875 - 10s/epoch - 963ms/step\n",
            "Epoch 46/50\n",
            "10/10 - 9s - loss: 0.6954 - accuracy: 0.7937 - val_loss: 0.7006 - val_accuracy: 0.7500 - 9s/epoch - 938ms/step\n",
            "Epoch 47/50\n",
            "10/10 - 9s - loss: 0.7255 - accuracy: 0.7594 - val_loss: 0.7648 - val_accuracy: 0.6750 - 9s/epoch - 897ms/step\n",
            "Epoch 48/50\n",
            "10/10 - 10s - loss: 0.7202 - accuracy: 0.7875 - val_loss: 0.7097 - val_accuracy: 0.7500 - 10s/epoch - 1000ms/step\n",
            "Epoch 49/50\n",
            "10/10 - 10s - loss: 0.6943 - accuracy: 0.7812 - val_loss: 0.7519 - val_accuracy: 0.7750 - 10s/epoch - 974ms/step\n",
            "Epoch 50/50\n",
            "10/10 - 10s - loss: 0.6769 - accuracy: 0.8062 - val_loss: 0.6757 - val_accuracy: 0.7875 - 10s/epoch - 956ms/step\n"
          ]
        }
      ]
    },
    {
      "cell_type": "code",
      "source": [
        "report_results(model_EfficientNetB5, y_test, model_EfficientNetB5.predict(test_generator))"
      ],
      "metadata": {
        "colab": {
          "base_uri": "https://localhost:8080/",
          "height": 554
        },
        "id": "0n5LfchefIzC",
        "outputId": "cb8b6e82-3a99-41f5-8892-4cc49a3ec252"
      },
      "execution_count": 62,
      "outputs": [
        {
          "output_type": "stream",
          "name": "stdout",
          "text": [
            "Accuracy score: 0.73\n",
            "              precision    recall  f1-score   support\n",
            "\n",
            "          Ak       0.82      0.64      0.72        28\n",
            "   Ala_Idris       0.52      0.86      0.65        14\n",
            "     Buzgulu       0.78      0.70      0.74        10\n",
            "      Dimnit       0.76      0.67      0.71        24\n",
            "       Nazli       0.80      0.83      0.82        24\n",
            "\n",
            "    accuracy                           0.73       100\n",
            "   macro avg       0.74      0.74      0.73       100\n",
            "weighted avg       0.75      0.73      0.73       100\n",
            "\n"
          ]
        },
        {
          "output_type": "display_data",
          "data": {
            "text/plain": [
              "<Figure size 432x288 with 2 Axes>"
            ],
            "image/png": "[encoded data removed]"
          },
          "metadata": {
            "needs_background": "light"
          }
        }
      ]
    },
    {
      "cell_type": "code",
      "source": [
        "vgg19 = tf.keras.applications.VGG19(include_top = False, input_shape = (227,227,3), weights = 'imagenet')\n",
        "x = GlobalAveragePooling2D()(vgg19.output)\n",
        "predictions = Dense(5, activation='softmax')(x)\n",
        "\n",
        "for layer in vgg19.layers:layer.trainable = False\n",
        "\n",
        "model_vgg19 = Model(inputs = vgg19.input, outputs = predictions)\n",
        "model_vgg19.compile(loss='categorical_crossentropy', metrics=['accuracy'])\n",
        "history_vgg19 = model_vgg19.fit(\n",
        "      train_generator ,\n",
        "      validation_data = validation_generator,\n",
        "      epochs=40 ,\n",
        "      verbose=2 ,\n",
        "      callbacks = callbacks)"
      ],
      "metadata": {
        "colab": {
          "base_uri": "https://localhost:8080/"
        },
        "id": "-DdagYdBfNoV",
        "outputId": "e9d5ab3c-42be-46d1-cc77-21f73987461e"
      },
      "execution_count": 63,
      "outputs": [
        {
          "output_type": "stream",
          "name": "stdout",
          "text": [
            "Downloading data from https://storage.googleapis.com/tensorflow/keras-applications/vgg19/vgg19_weights_tf_dim_ordering_tf_kernels_notop.h5\n",
            "80142336/80134624 [==============================] - 1s 0us/step\n",
            "80150528/80134624 [==============================] - 1s 0us/step\n",
            "Epoch 1/40\n",
            "10/10 - 24s - loss: 94.3069 - accuracy: 0.1844 - val_loss: 1.6110 - val_accuracy: 0.1750 - 24s/epoch - 2s/step\n",
            "Epoch 2/40\n",
            "10/10 - 14s - loss: 1.6127 - accuracy: 0.2156 - val_loss: 1.6094 - val_accuracy: 0.2000 - 14s/epoch - 1s/step\n",
            "Epoch 3/40\n",
            "10/10 - 12s - loss: 1.6094 - accuracy: 0.2125 - val_loss: 1.6093 - val_accuracy: 0.2000 - 12s/epoch - 1s/step\n",
            "Epoch 4/40\n",
            "10/10 - 11s - loss: 1.6094 - accuracy: 0.2188 - val_loss: 1.6093 - val_accuracy: 0.1875 - 11s/epoch - 1s/step\n",
            "Epoch 5/40\n",
            "10/10 - 17s - loss: 1.6255 - accuracy: 0.2156 - val_loss: 1.6093 - val_accuracy: 0.2000 - 17s/epoch - 2s/step\n",
            "Epoch 6/40\n",
            "10/10 - 12s - loss: 1.6118 - accuracy: 0.2188 - val_loss: 1.6092 - val_accuracy: 0.2000 - 12s/epoch - 1s/step\n",
            "Epoch 7/40\n",
            "10/10 - 13s - loss: 1.6126 - accuracy: 0.2188 - val_loss: 1.6092 - val_accuracy: 0.2000 - 13s/epoch - 1s/step\n",
            "Epoch 8/40\n",
            "10/10 - 11s - loss: 1.6093 - accuracy: 0.2188 - val_loss: 1.6092 - val_accuracy: 0.2000 - 11s/epoch - 1s/step\n",
            "Epoch 9/40\n",
            "10/10 - 11s - loss: 1.6093 - accuracy: 0.2188 - val_loss: 1.6092 - val_accuracy: 0.2000 - 11s/epoch - 1s/step\n",
            "Epoch 10/40\n",
            "10/10 - 15s - loss: 1.6093 - accuracy: 0.2188 - val_loss: 1.6092 - val_accuracy: 0.2000 - 15s/epoch - 2s/step\n",
            "Epoch 11/40\n",
            "10/10 - 11s - loss: 1.6093 - accuracy: 0.2188 - val_loss: 1.6092 - val_accuracy: 0.2000 - 11s/epoch - 1s/step\n",
            "Epoch 12/40\n",
            "10/10 - 13s - loss: 1.6092 - accuracy: 0.2188 - val_loss: 1.6092 - val_accuracy: 0.2000 - 13s/epoch - 1s/step\n",
            "Epoch 13/40\n",
            "10/10 - 11s - loss: 1.6092 - accuracy: 0.2188 - val_loss: 1.6091 - val_accuracy: 0.2000 - 11s/epoch - 1s/step\n",
            "Epoch 14/40\n",
            "10/10 - 12s - loss: 1.6092 - accuracy: 0.2188 - val_loss: 1.6091 - val_accuracy: 0.2000 - 12s/epoch - 1s/step\n",
            "Epoch 15/40\n",
            "10/10 - 11s - loss: 1.6092 - accuracy: 0.2188 - val_loss: 1.6091 - val_accuracy: 0.2000 - 11s/epoch - 1s/step\n",
            "Epoch 16/40\n",
            "10/10 - 11s - loss: 1.6092 - accuracy: 0.2188 - val_loss: 1.6091 - val_accuracy: 0.2000 - 11s/epoch - 1s/step\n",
            "Epoch 17/40\n",
            "10/10 - 14s - loss: 1.6092 - accuracy: 0.2188 - val_loss: 1.6090 - val_accuracy: 0.2000 - 14s/epoch - 1s/step\n",
            "Epoch 18/40\n",
            "10/10 - 11s - loss: 1.6091 - accuracy: 0.2188 - val_loss: 1.6090 - val_accuracy: 0.2000 - 11s/epoch - 1s/step\n",
            "Epoch 19/40\n",
            "10/10 - 14s - loss: 1.6091 - accuracy: 0.2188 - val_loss: 1.6090 - val_accuracy: 0.2000 - 14s/epoch - 1s/step\n",
            "Epoch 20/40\n",
            "10/10 - 11s - loss: 1.6091 - accuracy: 0.2188 - val_loss: 1.6090 - val_accuracy: 0.2000 - 11s/epoch - 1s/step\n",
            "Epoch 21/40\n",
            "10/10 - 15s - loss: 1.6091 - accuracy: 0.2188 - val_loss: 1.6090 - val_accuracy: 0.2000 - 15s/epoch - 2s/step\n",
            "Epoch 22/40\n",
            "10/10 - 11s - loss: 1.6091 - accuracy: 0.2188 - val_loss: 1.6089 - val_accuracy: 0.2000 - 11s/epoch - 1s/step\n",
            "Epoch 23/40\n",
            "10/10 - 13s - loss: 1.6091 - accuracy: 0.2188 - val_loss: 1.6089 - val_accuracy: 0.2000 - 13s/epoch - 1s/step\n",
            "Epoch 24/40\n",
            "10/10 - 11s - loss: 1.6090 - accuracy: 0.2188 - val_loss: 1.6089 - val_accuracy: 0.2000 - 11s/epoch - 1s/step\n",
            "Epoch 25/40\n",
            "10/10 - 11s - loss: 1.6090 - accuracy: 0.2188 - val_loss: 1.6089 - val_accuracy: 0.2000 - 11s/epoch - 1s/step\n",
            "Epoch 26/40\n",
            "10/10 - 15s - loss: 1.6090 - accuracy: 0.2188 - val_loss: 1.6088 - val_accuracy: 0.2000 - 15s/epoch - 1s/step\n",
            "Epoch 27/40\n",
            "10/10 - 11s - loss: 1.6090 - accuracy: 0.2188 - val_loss: 1.6088 - val_accuracy: 0.2000 - 11s/epoch - 1s/step\n",
            "Epoch 28/40\n",
            "10/10 - 11s - loss: 1.6090 - accuracy: 0.2188 - val_loss: 1.6088 - val_accuracy: 0.2000 - 11s/epoch - 1s/step\n",
            "Epoch 29/40\n",
            "10/10 - 15s - loss: 1.6090 - accuracy: 0.2188 - val_loss: 1.6088 - val_accuracy: 0.2000 - 15s/epoch - 1s/step\n",
            "Epoch 30/40\n",
            "10/10 - 11s - loss: 1.6090 - accuracy: 0.2188 - val_loss: 1.6088 - val_accuracy: 0.2000 - 11s/epoch - 1s/step\n",
            "Epoch 31/40\n",
            "10/10 - 11s - loss: 1.6089 - accuracy: 0.2188 - val_loss: 1.6087 - val_accuracy: 0.2000 - 11s/epoch - 1s/step\n",
            "Epoch 32/40\n",
            "10/10 - 13s - loss: 1.6089 - accuracy: 0.2188 - val_loss: 1.6087 - val_accuracy: 0.2000 - 13s/epoch - 1s/step\n",
            "Epoch 33/40\n",
            "10/10 - 11s - loss: 1.6089 - accuracy: 0.2188 - val_loss: 1.6087 - val_accuracy: 0.2000 - 11s/epoch - 1s/step\n",
            "Epoch 34/40\n",
            "10/10 - 11s - loss: 1.6089 - accuracy: 0.2188 - val_loss: 1.6087 - val_accuracy: 0.2000 - 11s/epoch - 1s/step\n",
            "Epoch 35/40\n",
            "10/10 - 14s - loss: 1.6089 - accuracy: 0.2188 - val_loss: 1.6087 - val_accuracy: 0.2000 - 14s/epoch - 1s/step\n",
            "Epoch 36/40\n",
            "10/10 - 11s - loss: 1.6089 - accuracy: 0.2188 - val_loss: 1.6087 - val_accuracy: 0.2000 - 11s/epoch - 1s/step\n",
            "Epoch 37/40\n",
            "10/10 - 12s - loss: 1.6088 - accuracy: 0.2188 - val_loss: 1.6086 - val_accuracy: 0.2000 - 12s/epoch - 1s/step\n",
            "Epoch 38/40\n",
            "10/10 - 11s - loss: 1.6088 - accuracy: 0.2188 - val_loss: 1.6086 - val_accuracy: 0.2000 - 11s/epoch - 1s/step\n",
            "Epoch 39/40\n",
            "10/10 - 15s - loss: 1.6088 - accuracy: 0.2188 - val_loss: 1.6086 - val_accuracy: 0.2000 - 15s/epoch - 1s/step\n",
            "Epoch 40/40\n",
            "10/10 - 11s - loss: 1.6088 - accuracy: 0.2188 - val_loss: 1.6086 - val_accuracy: 0.2000 - 11s/epoch - 1s/step\n"
          ]
        }
      ]
    },
    {
      "cell_type": "code",
      "source": [
        "report_results(model_vgg19, y_test, model_vgg19.predict(test_generator))"
      ],
      "metadata": {
        "colab": {
          "base_uri": "https://localhost:8080/",
          "height": 678
        },
        "id": "cN0JPApxgCSb",
        "outputId": "26cba2a7-4dab-4c32-c1b4-4e581d1ea76d"
      },
      "execution_count": 64,
      "outputs": [
        {
          "output_type": "stream",
          "name": "stdout",
          "text": [
            "Accuracy score: 0.14\n",
            "              precision    recall  f1-score   support\n",
            "\n",
            "          Ak       0.00      0.00      0.00        28\n",
            "   Ala_Idris       0.14      1.00      0.25        14\n",
            "     Buzgulu       0.00      0.00      0.00        10\n",
            "      Dimnit       0.00      0.00      0.00        24\n",
            "       Nazli       0.00      0.00      0.00        24\n",
            "\n",
            "    accuracy                           0.14       100\n",
            "   macro avg       0.03      0.20      0.05       100\n",
            "weighted avg       0.02      0.14      0.03       100\n",
            "\n"
          ]
        },
        {
          "output_type": "stream",
          "name": "stderr",
          "text": [
            "/usr/local/lib/python3.7/dist-packages/sklearn/metrics/_classification.py:1318: UndefinedMetricWarning: Precision and F-score are ill-defined and being set to 0.0 in labels with no predicted samples. Use `zero_division` parameter to control this behavior.\n",
            "  _warn_prf(average, modifier, msg_start, len(result))\n",
            "/usr/local/lib/python3.7/dist-packages/sklearn/metrics/_classification.py:1318: UndefinedMetricWarning: Precision and F-score are ill-defined and being set to 0.0 in labels with no predicted samples. Use `zero_division` parameter to control this behavior.\n",
            "  _warn_prf(average, modifier, msg_start, len(result))\n",
            "/usr/local/lib/python3.7/dist-packages/sklearn/metrics/_classification.py:1318: UndefinedMetricWarning: Precision and F-score are ill-defined and being set to 0.0 in labels with no predicted samples. Use `zero_division` parameter to control this behavior.\n",
            "  _warn_prf(average, modifier, msg_start, len(result))\n"
          ]
        },
        {
          "output_type": "display_data",
          "data": {
            "text/plain": [
              "<Figure size 432x288 with 2 Axes>"
            ],
            "image/png": "[encoded data removed]"
          },
          "metadata": {
            "needs_background": "light"
          }
        }
      ]
    },
    {
      "cell_type": "code",
      "source": [
        "xception = tf.keras.applications.Xception(include_top = False, input_shape = (227,227,3), weights = 'imagenet')\n",
        "x = GlobalAveragePooling2D()(xception.output)\n",
        "predictions = Dense(5, activation='softmax')(x)\n",
        "\n",
        "model_xception = Model(inputs = xception.input, outputs = predictions)\n",
        "model_xception.compile(Adamax(learning_rate=0.001), loss='categorical_crossentropy', metrics=['accuracy'])\n",
        "history_xception = model_xception.fit(\n",
        "      train_generator ,\n",
        "      validation_data = validation_generator,\n",
        "      epochs=40 ,\n",
        "      verbose=2 ,\n",
        "      callbacks = callbacks)"
      ],
      "metadata": {
        "colab": {
          "base_uri": "https://localhost:8080/"
        },
        "id": "1YyObjSZgE0i",
        "outputId": "60435158-65af-47b8-d9cb-a81b1dd0294b"
      },
      "execution_count": 65,
      "outputs": [
        {
          "output_type": "stream",
          "name": "stdout",
          "text": [
            "Downloading data from https://storage.googleapis.com/tensorflow/keras-applications/xception/xception_weights_tf_dim_ordering_tf_kernels_notop.h5\n",
            "83689472/83683744 [==============================] - 2s 0us/step\n",
            "83697664/83683744 [==============================] - 2s 0us/step\n",
            "Epoch 1/40\n",
            "10/10 - 25s - loss: 1.0799 - accuracy: 0.5844 - val_loss: 4.6415 - val_accuracy: 0.1625 - 25s/epoch - 2s/step\n",
            "Epoch 2/40\n",
            "10/10 - 11s - loss: 0.5455 - accuracy: 0.7812 - val_loss: 9.3602 - val_accuracy: 0.2125 - 11s/epoch - 1s/step\n",
            "Epoch 3/40\n",
            "10/10 - 12s - loss: 0.2988 - accuracy: 0.9000 - val_loss: 5.4406 - val_accuracy: 0.4875 - 12s/epoch - 1s/step\n",
            "Epoch 4/40\n",
            "10/10 - 12s - loss: 0.2028 - accuracy: 0.9250 - val_loss: 3.9163 - val_accuracy: 0.4750 - 12s/epoch - 1s/step\n",
            "Epoch 5/40\n",
            "10/10 - 15s - loss: 0.1611 - accuracy: 0.9469 - val_loss: 4.3031 - val_accuracy: 0.4625 - 15s/epoch - 1s/step\n",
            "Epoch 6/40\n",
            "10/10 - 15s - loss: 0.1223 - accuracy: 0.9594 - val_loss: 4.2454 - val_accuracy: 0.5000 - 15s/epoch - 2s/step\n",
            "Epoch 7/40\n",
            "10/10 - 11s - loss: 0.2081 - accuracy: 0.9281 - val_loss: 3.3138 - val_accuracy: 0.5250 - 11s/epoch - 1s/step\n",
            "Epoch 8/40\n",
            "10/10 - 11s - loss: 0.0907 - accuracy: 0.9625 - val_loss: 3.6993 - val_accuracy: 0.5500 - 11s/epoch - 1s/step\n",
            "Epoch 9/40\n",
            "10/10 - 22s - loss: 0.1143 - accuracy: 0.9688 - val_loss: 2.3242 - val_accuracy: 0.6500 - 22s/epoch - 2s/step\n",
            "Epoch 10/40\n",
            "10/10 - 13s - loss: 0.0730 - accuracy: 0.9688 - val_loss: 3.3523 - val_accuracy: 0.5250 - 13s/epoch - 1s/step\n",
            "Epoch 11/40\n",
            "10/10 - 11s - loss: 0.0526 - accuracy: 0.9937 - val_loss: 3.2512 - val_accuracy: 0.5000 - 11s/epoch - 1s/step\n",
            "Epoch 12/40\n",
            "10/10 - 13s - loss: 0.0372 - accuracy: 0.9875 - val_loss: 0.8488 - val_accuracy: 0.8125 - 13s/epoch - 1s/step\n",
            "Epoch 13/40\n",
            "10/10 - 13s - loss: 0.0620 - accuracy: 0.9844 - val_loss: 1.3041 - val_accuracy: 0.7375 - 13s/epoch - 1s/step\n",
            "Epoch 14/40\n",
            "10/10 - 20s - loss: 0.0466 - accuracy: 0.9844 - val_loss: 0.8626 - val_accuracy: 0.8250 - 20s/epoch - 2s/step\n",
            "Epoch 15/40\n",
            "10/10 - 12s - loss: 0.0395 - accuracy: 0.9937 - val_loss: 1.0749 - val_accuracy: 0.7625 - 12s/epoch - 1s/step\n",
            "Epoch 16/40\n",
            "10/10 - 18s - loss: 0.0435 - accuracy: 0.9812 - val_loss: 1.3942 - val_accuracy: 0.6625 - 18s/epoch - 2s/step\n",
            "Epoch 17/40\n",
            "10/10 - 11s - loss: 0.0391 - accuracy: 0.9844 - val_loss: 0.8741 - val_accuracy: 0.7750 - 11s/epoch - 1s/step\n",
            "Epoch 18/40\n",
            "10/10 - 12s - loss: 0.0611 - accuracy: 0.9812 - val_loss: 0.6319 - val_accuracy: 0.8375 - 12s/epoch - 1s/step\n",
            "Epoch 19/40\n",
            "10/10 - 14s - loss: 0.0258 - accuracy: 0.9937 - val_loss: 0.7599 - val_accuracy: 0.8500 - 14s/epoch - 1s/step\n",
            "Epoch 20/40\n",
            "10/10 - 12s - loss: 0.0445 - accuracy: 0.9844 - val_loss: 0.2614 - val_accuracy: 0.9375 - 12s/epoch - 1s/step\n",
            "Epoch 21/40\n",
            "10/10 - 12s - loss: 0.0384 - accuracy: 0.9906 - val_loss: 0.0938 - val_accuracy: 0.9750 - 12s/epoch - 1s/step\n",
            "Epoch 22/40\n",
            "10/10 - 11s - loss: 0.0384 - accuracy: 0.9844 - val_loss: 0.1386 - val_accuracy: 0.9500 - 11s/epoch - 1s/step\n",
            "Epoch 23/40\n",
            "10/10 - 16s - loss: 0.0226 - accuracy: 0.9906 - val_loss: 0.1919 - val_accuracy: 0.9375 - 16s/epoch - 2s/step\n",
            "Epoch 24/40\n",
            "10/10 - 11s - loss: 0.0388 - accuracy: 0.9875 - val_loss: 0.1955 - val_accuracy: 0.9375 - 11s/epoch - 1s/step\n",
            "Epoch 25/40\n",
            "10/10 - 11s - loss: 0.0195 - accuracy: 0.9969 - val_loss: 0.1011 - val_accuracy: 0.9625 - 11s/epoch - 1s/step\n",
            "Epoch 26/40\n",
            "10/10 - 11s - loss: 0.0596 - accuracy: 0.9844 - val_loss: 0.3112 - val_accuracy: 0.9250 - 11s/epoch - 1s/step\n",
            "Epoch 27/40\n",
            "10/10 - 11s - loss: 0.0302 - accuracy: 0.9937 - val_loss: 0.2463 - val_accuracy: 0.9375 - 11s/epoch - 1s/step\n",
            "Epoch 28/40\n",
            "10/10 - 11s - loss: 0.0275 - accuracy: 0.9875 - val_loss: 0.1901 - val_accuracy: 0.9375 - 11s/epoch - 1s/step\n",
            "Epoch 29/40\n",
            "10/10 - 11s - loss: 0.0384 - accuracy: 0.9875 - val_loss: 0.0698 - val_accuracy: 0.9625 - 11s/epoch - 1s/step\n",
            "Epoch 30/40\n",
            "10/10 - 13s - loss: 0.0200 - accuracy: 0.9969 - val_loss: 0.0913 - val_accuracy: 0.9625 - 13s/epoch - 1s/step\n",
            "Epoch 31/40\n",
            "10/10 - 11s - loss: 0.0491 - accuracy: 0.9781 - val_loss: 0.1853 - val_accuracy: 0.9375 - 11s/epoch - 1s/step\n",
            "Epoch 32/40\n",
            "10/10 - 11s - loss: 0.0332 - accuracy: 0.9906 - val_loss: 0.1073 - val_accuracy: 0.9500 - 11s/epoch - 1s/step\n",
            "Epoch 33/40\n",
            "10/10 - 11s - loss: 0.0077 - accuracy: 1.0000 - val_loss: 0.1114 - val_accuracy: 0.9625 - 11s/epoch - 1s/step\n",
            "Epoch 34/40\n",
            "10/10 - 11s - loss: 0.0106 - accuracy: 0.9969 - val_loss: 0.0811 - val_accuracy: 0.9625 - 11s/epoch - 1s/step\n",
            "Epoch 35/40\n",
            "10/10 - 12s - loss: 0.0107 - accuracy: 0.9937 - val_loss: 0.0250 - val_accuracy: 0.9875 - 12s/epoch - 1s/step\n",
            "Epoch 36/40\n",
            "10/10 - 11s - loss: 0.0213 - accuracy: 0.9906 - val_loss: 0.2390 - val_accuracy: 0.9375 - 11s/epoch - 1s/step\n",
            "Epoch 37/40\n",
            "10/10 - 11s - loss: 0.0396 - accuracy: 0.9906 - val_loss: 0.2425 - val_accuracy: 0.9375 - 11s/epoch - 1s/step\n",
            "Epoch 38/40\n",
            "10/10 - 12s - loss: 0.0201 - accuracy: 0.9906 - val_loss: 0.2802 - val_accuracy: 0.9500 - 12s/epoch - 1s/step\n",
            "Epoch 39/40\n",
            "10/10 - 11s - loss: 0.0215 - accuracy: 0.9937 - val_loss: 0.2296 - val_accuracy: 0.9250 - 11s/epoch - 1s/step\n",
            "Epoch 40/40\n",
            "10/10 - 11s - loss: 0.0085 - accuracy: 0.9969 - val_loss: 0.1540 - val_accuracy: 0.9500 - 11s/epoch - 1s/step\n"
          ]
        }
      ]
    },
    {
      "cell_type": "code",
      "source": [
        "report_results(model_xception, y_test, model_xception.predict(test_generator))"
      ],
      "metadata": {
        "colab": {
          "base_uri": "https://localhost:8080/",
          "height": 554
        },
        "id": "B65PxWC4gXK1",
        "outputId": "7be602c6-cf1e-4c25-aa63-c3f3b22c197d"
      },
      "execution_count": 66,
      "outputs": [
        {
          "output_type": "stream",
          "name": "stdout",
          "text": [
            "Accuracy score: 0.93\n",
            "              precision    recall  f1-score   support\n",
            "\n",
            "          Ak       1.00      0.89      0.94        28\n",
            "   Ala_Idris       1.00      1.00      1.00        14\n",
            "     Buzgulu       1.00      0.80      0.89        10\n",
            "      Dimnit       0.77      1.00      0.87        24\n",
            "       Nazli       1.00      0.92      0.96        24\n",
            "\n",
            "    accuracy                           0.93       100\n",
            "   macro avg       0.95      0.92      0.93       100\n",
            "weighted avg       0.95      0.93      0.93       100\n",
            "\n"
          ]
        },
        {
          "output_type": "display_data",
          "data": {
            "text/plain": [
              "<Figure size 432x288 with 2 Axes>"
            ],
            "image/png": "[encoded data removed]"
          },
          "metadata": {
            "needs_background": "light"
          }
        }
      ]
    },
    {
      "cell_type": "markdown",
      "source": [
        "### try on diffrent seeds"
      ],
      "metadata": {
        "id": "7nP_W4VcyYQO"
      }
    },
    {
      "cell_type": "code",
      "source": [
        "def generate_data():\n",
        "  inputs = {'x_col':'path','y_col':'label','target_size':(227, 227),'batch_size':32,'class_mode':\"categorical\",'shuffle':False}\n",
        "  train= data_generator.flow_from_dataframe(pd.concat([x_train,y_train],axis=1),**inputs)\n",
        "  valid= data_generator.flow_from_dataframe(pd.concat([x_valid,y_valid],axis=1),**inputs)\n",
        "  test = test_data_generation.flow_from_dataframe(pd.concat([x_test,y_test],axis=1), **inputs)\n",
        "  return train,valid,test"
      ],
      "metadata": {
        "id": "edp7yDcem9CO"
      },
      "execution_count": null,
      "outputs": []
    },
    {
      "cell_type": "code",
      "source": [
        "preds_ENB3 = []\n",
        "for i in range(10):\n",
        "  x_train, x_test, y_train, y_test = train_test_split(date_frame_copy, data_frame['type_lable'] , test_size=0.2, random_state=i*10)\n",
        "  x_train, x_valid, y_train, y_valid = train_test_split(x_train, y_train, test_size=0.2, random_state=i)\n",
        "  train,valid,test = generate_data()\n",
        "  \n",
        "  EfficientNetB3 = tf.keras.applications.EfficientNetB3(include_top = False, input_shape = (227,227,3), weights = 'imagenet')\n",
        "  x = GlobalAveragePooling2D()(EfficientNetB3.output)\n",
        "  predictions = Dense(5, activation='softmax')(x)\n",
        "\n",
        "  model_EfficientNetB3 = Model(inputs = EfficientNetB3.input, outputs = predictions)\n",
        "  model_EfficientNetB3.compile(Adamax(learning_rate=0.001), loss='categorical_crossentropy', metrics=['accuracy'])\n",
        "  history_EfficientNetB3 = model_EfficientNetB3.fit(\n",
        "        train_generator ,\n",
        "        validation_data = validation_generator,\n",
        "        epochs=25 ,\n",
        "        verbose=0 ,\n",
        "        callbacks = callbacks)\n",
        "\n",
        "  pred = model_EfficientNetB3.evaluate(test)\n",
        "  preds_ENB3.append(pred[1])"
      ],
      "metadata": {
        "id": "lH2GJuIYgdLB"
      },
      "execution_count": null,
      "outputs": []
    },
    {
      "cell_type": "code",
      "source": [
        "preds_RN50 = []\n",
        "for i in range(10):\n",
        "  x_train, x_test, y_train, y_test = train_test_split(date_frame_copy, data_frame['type_lable'] , test_size=0.2, random_state=i*10)\n",
        "  x_train, x_valid, y_train, y_valid = train_test_split(x_train, y_train, test_size=0.2, random_state=i)\n",
        "  train,valid,test = generate_data()\n",
        "  \n",
        "  ResNet50 = tf.keras.applications.ResNet50(include_top = False, input_shape = (227,227,3), weights = 'imagenet')\n",
        "  x = GlobalAveragePooling2D()(ResNet50.output)\n",
        "  predictions = Dense(5, activation='softmax')(x)\n",
        "  for layer in ResNet50.layers:\n",
        "      layer.trainable = False\n",
        "  model_ResNet50 = Model(inputs = ResNet50.input, outputs = predictions)\n",
        "  model_ResNet50.compile(Adamax(learning_rate=0.001), loss='categorical_crossentropy', metrics=['accuracy'])\n",
        "  history_ResNet50 = model_ResNet50.fit(\n",
        "        train_generator ,\n",
        "        validation_data = validation_generator,\n",
        "        epochs=25 ,\n",
        "        verbose=2 ,\n",
        "        callbacks = callbacks)\n",
        "\n",
        "  pred = model_EfficientNetB3.evaluate(test)\n",
        "  preds_RN50.append(pred[1])"
      ],
      "metadata": {
        "id": "dMWGGE1UtBSP"
      },
      "execution_count": null,
      "outputs": []
    },
    {
      "cell_type": "code",
      "source": [
        "pd.DataFrame({'ENB3':preds_ENB3, 'RN50':preds_RN50}).plot()\n",
        "print(f'mean of ENB3:{np.mean(preds_ENB3)}\\nmean of RN50:{np.mean(preds_RN50)}')"
      ],
      "metadata": {
        "colab": {
          "base_uri": "https://localhost:8080/",
          "height": 300
        },
        "id": "UdsQ8_hGtO6N",
        "outputId": "6754b4f6-a5ab-4d0e-9843-5957405150b2"
      },
      "execution_count": 82,
      "outputs": [
        {
          "output_type": "stream",
          "name": "stdout",
          "text": [
            "mean of ENB3:89.90875735131752\n",
            "mean of RN50:78.12538819964377\n"
          ]
        },
        {
          "output_type": "display_data",
          "data": {
            "text/plain": [
              "<Figure size 432x288 with 1 Axes>"
            ],
            "image/png": "[encoded data removed]"
          },
          "metadata": {
            "needs_background": "light"
          }
        }
      ]
    },
    {
      "cell_type": "markdown",
      "source": [
        "### 10fold cross validation"
      ],
      "metadata": {
        "id": "uWCdti6VyRSk"
      }
    },
    {
      "cell_type": "code",
      "source": [
        "preds_ENB3 = []\n",
        "for i in range(10):\n",
        "  x_train, x_test, y_train, y_test = train_test_split(date_frame_copy, data_frame['type_lable'],\n",
        "                                                      test_size=0.2, random_state=50)\n",
        "  x_valid, x_train, y_valid, y_train = (x_train.iloc[i*40:i*40+40],pd.concat([x_train.iloc[0:i*40],x_train.iloc[i*40+40:]]),\n",
        "                                       y_train.iloc[i*40:i*40+40],pd.concat([y_train.iloc[0:i*40],y_train.iloc[i*40+40:]]))\n",
        "  train,valid,test = generate_data()\n",
        "\n",
        "  EfficientNetB3 = tf.keras.applications.EfficientNetB3(include_top = False, input_shape = (227,227,3), weights = 'imagenet')\n",
        "  x = GlobalAveragePooling2D()(EfficientNetB3.output)\n",
        "  predictions = Dense(5, activation='softmax')(x)\n",
        "\n",
        "  model_EfficientNetB3 = Model(inputs = EfficientNetB3.input, outputs = predictions)\n",
        "  model_EfficientNetB3.compile(Adamax(learning_rate=0.001), loss='categorical_crossentropy', metrics=['accuracy'])\n",
        "  history_EfficientNetB3 = model_EfficientNetB3.fit(\n",
        "        train_generator ,\n",
        "        validation_data = validation_generator,\n",
        "        epochs=25 ,\n",
        "        verbose=0 ,\n",
        "        callbacks = callbacks)\n",
        "  pred = model_EfficientNetB3.evaluate(test)\n",
        "  preds_ENB3.append(pred[1])"
      ],
      "metadata": {
        "id": "MqUMEwULtqeH"
      },
      "execution_count": 88,
      "outputs": []
    },
    {
      "cell_type": "code",
      "source": [
        "pd.Series(preds_ENB3).plot()\n",
        "print('mean:',np.mean(preds_ENB3))"
      ],
      "metadata": {
        "colab": {
          "base_uri": "https://localhost:8080/",
          "height": 282
        },
        "id": "RhGD4Mh1uJ4j",
        "outputId": "d8871cc4-8d3e-4e60-dcda-d35e4ab7c818"
      },
      "execution_count": 88,
      "outputs": [
        {
          "output_type": "stream",
          "name": "stdout",
          "text": [
            "mean: 93.16579601165333\n"
          ]
        },
        {
          "output_type": "display_data",
          "data": {
            "text/plain": [
              "<Figure size 432x288 with 1 Axes>"
            ],
            "image/png": "[encoded data removed]"
          },
          "metadata": {
            "needs_background": "light"
          }
        }
      ]
    },
    {
      "cell_type": "code",
      "source": [
        ""
      ],
      "metadata": {
        "id": "rzzAjzFrx6Ph"
      },
      "execution_count": null,
      "outputs": []
    }
  ]
}